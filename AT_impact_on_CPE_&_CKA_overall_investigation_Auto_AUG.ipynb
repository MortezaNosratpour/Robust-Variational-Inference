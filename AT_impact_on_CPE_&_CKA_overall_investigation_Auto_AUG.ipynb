{
  "cells": [
    {
      "cell_type": "code",
      "execution_count": 1,
      "metadata": {
        "colab": {
          "base_uri": "https://localhost:8080/"
        },
        "execution": {
          "iopub.execute_input": "2023-10-03T07:51:36.468557Z",
          "iopub.status.busy": "2023-10-03T07:51:36.468411Z",
          "iopub.status.idle": "2023-10-03T07:51:42.512822Z",
          "shell.execute_reply": "2023-10-03T07:51:42.512314Z"
        },
        "id": "dGF_BmcbYTjm",
        "outputId": "49f039fa-2755-45b4-aca9-9c6314f2e5bd"
      },
      "outputs": [
        {
          "output_type": "stream",
          "name": "stdout",
          "text": [
            "Cloning into 'bayesian-torch'...\n",
            "remote: Enumerating objects: 722, done.\u001b[K\n",
            "remote: Counting objects: 100% (457/457), done.\u001b[K\n",
            "remote: Compressing objects: 100% (217/217), done.\u001b[K\n",
            "remote: Total 722 (delta 300), reused 369 (delta 240), pack-reused 265\u001b[K\n",
            "Receiving objects: 100% (722/722), 277.08 KiB | 3.46 MiB/s, done.\n",
            "Resolving deltas: 100% (457/457), done.\n",
            "Processing ./bayesian-torch\n",
            "  Preparing metadata (setup.py) ... \u001b[?25l\u001b[?25hdone\n",
            "Requirement already satisfied: torch>=1.7.0 in /usr/local/lib/python3.10/dist-packages (from bayesian-torch==0.4.0) (2.1.0+cu118)\n",
            "Requirement already satisfied: torchvision>=0.8.1 in /usr/local/lib/python3.10/dist-packages (from bayesian-torch==0.4.0) (0.16.0+cu118)\n",
            "Requirement already satisfied: tensorboard>=1.15.0 in /usr/local/lib/python3.10/dist-packages (from bayesian-torch==0.4.0) (2.14.1)\n",
            "Requirement already satisfied: scikit-learn>=0.20.3 in /usr/local/lib/python3.10/dist-packages (from bayesian-torch==0.4.0) (1.2.2)\n",
            "Requirement already satisfied: numpy>=1.17.3 in /usr/local/lib/python3.10/dist-packages (from scikit-learn>=0.20.3->bayesian-torch==0.4.0) (1.23.5)\n",
            "Requirement already satisfied: scipy>=1.3.2 in /usr/local/lib/python3.10/dist-packages (from scikit-learn>=0.20.3->bayesian-torch==0.4.0) (1.11.3)\n",
            "Requirement already satisfied: joblib>=1.1.1 in /usr/local/lib/python3.10/dist-packages (from scikit-learn>=0.20.3->bayesian-torch==0.4.0) (1.3.2)\n",
            "Requirement already satisfied: threadpoolctl>=2.0.0 in /usr/local/lib/python3.10/dist-packages (from scikit-learn>=0.20.3->bayesian-torch==0.4.0) (3.2.0)\n",
            "Requirement already satisfied: absl-py>=0.4 in /usr/local/lib/python3.10/dist-packages (from tensorboard>=1.15.0->bayesian-torch==0.4.0) (1.4.0)\n",
            "Requirement already satisfied: grpcio>=1.48.2 in /usr/local/lib/python3.10/dist-packages (from tensorboard>=1.15.0->bayesian-torch==0.4.0) (1.59.0)\n",
            "Requirement already satisfied: google-auth<3,>=1.6.3 in /usr/local/lib/python3.10/dist-packages (from tensorboard>=1.15.0->bayesian-torch==0.4.0) (2.17.3)\n",
            "Requirement already satisfied: google-auth-oauthlib<1.1,>=0.5 in /usr/local/lib/python3.10/dist-packages (from tensorboard>=1.15.0->bayesian-torch==0.4.0) (1.0.0)\n",
            "Requirement already satisfied: markdown>=2.6.8 in /usr/local/lib/python3.10/dist-packages (from tensorboard>=1.15.0->bayesian-torch==0.4.0) (3.5)\n",
            "Requirement already satisfied: protobuf>=3.19.6 in /usr/local/lib/python3.10/dist-packages (from tensorboard>=1.15.0->bayesian-torch==0.4.0) (3.20.3)\n",
            "Requirement already satisfied: requests<3,>=2.21.0 in /usr/local/lib/python3.10/dist-packages (from tensorboard>=1.15.0->bayesian-torch==0.4.0) (2.31.0)\n",
            "Requirement already satisfied: setuptools>=41.0.0 in /usr/local/lib/python3.10/dist-packages (from tensorboard>=1.15.0->bayesian-torch==0.4.0) (67.7.2)\n",
            "Requirement already satisfied: six>1.9 in /usr/local/lib/python3.10/dist-packages (from tensorboard>=1.15.0->bayesian-torch==0.4.0) (1.16.0)\n",
            "Requirement already satisfied: tensorboard-data-server<0.8.0,>=0.7.0 in /usr/local/lib/python3.10/dist-packages (from tensorboard>=1.15.0->bayesian-torch==0.4.0) (0.7.2)\n",
            "Requirement already satisfied: werkzeug>=1.0.1 in /usr/local/lib/python3.10/dist-packages (from tensorboard>=1.15.0->bayesian-torch==0.4.0) (3.0.1)\n",
            "Requirement already satisfied: filelock in /usr/local/lib/python3.10/dist-packages (from torch>=1.7.0->bayesian-torch==0.4.0) (3.12.4)\n",
            "Requirement already satisfied: typing-extensions in /usr/local/lib/python3.10/dist-packages (from torch>=1.7.0->bayesian-torch==0.4.0) (4.5.0)\n",
            "Requirement already satisfied: sympy in /usr/local/lib/python3.10/dist-packages (from torch>=1.7.0->bayesian-torch==0.4.0) (1.12)\n",
            "Requirement already satisfied: networkx in /usr/local/lib/python3.10/dist-packages (from torch>=1.7.0->bayesian-torch==0.4.0) (3.2)\n",
            "Requirement already satisfied: jinja2 in /usr/local/lib/python3.10/dist-packages (from torch>=1.7.0->bayesian-torch==0.4.0) (3.1.2)\n",
            "Requirement already satisfied: fsspec in /usr/local/lib/python3.10/dist-packages (from torch>=1.7.0->bayesian-torch==0.4.0) (2023.6.0)\n",
            "Requirement already satisfied: triton==2.1.0 in /usr/local/lib/python3.10/dist-packages (from torch>=1.7.0->bayesian-torch==0.4.0) (2.1.0)\n",
            "Requirement already satisfied: pillow!=8.3.*,>=5.3.0 in /usr/local/lib/python3.10/dist-packages (from torchvision>=0.8.1->bayesian-torch==0.4.0) (9.4.0)\n",
            "Requirement already satisfied: cachetools<6.0,>=2.0.0 in /usr/local/lib/python3.10/dist-packages (from google-auth<3,>=1.6.3->tensorboard>=1.15.0->bayesian-torch==0.4.0) (5.3.2)\n",
            "Requirement already satisfied: pyasn1-modules>=0.2.1 in /usr/local/lib/python3.10/dist-packages (from google-auth<3,>=1.6.3->tensorboard>=1.15.0->bayesian-torch==0.4.0) (0.3.0)\n",
            "Requirement already satisfied: rsa<5,>=3.1.4 in /usr/local/lib/python3.10/dist-packages (from google-auth<3,>=1.6.3->tensorboard>=1.15.0->bayesian-torch==0.4.0) (4.9)\n",
            "Requirement already satisfied: requests-oauthlib>=0.7.0 in /usr/local/lib/python3.10/dist-packages (from google-auth-oauthlib<1.1,>=0.5->tensorboard>=1.15.0->bayesian-torch==0.4.0) (1.3.1)\n",
            "Requirement already satisfied: charset-normalizer<4,>=2 in /usr/local/lib/python3.10/dist-packages (from requests<3,>=2.21.0->tensorboard>=1.15.0->bayesian-torch==0.4.0) (3.3.1)\n",
            "Requirement already satisfied: idna<4,>=2.5 in /usr/local/lib/python3.10/dist-packages (from requests<3,>=2.21.0->tensorboard>=1.15.0->bayesian-torch==0.4.0) (3.4)\n",
            "Requirement already satisfied: urllib3<3,>=1.21.1 in /usr/local/lib/python3.10/dist-packages (from requests<3,>=2.21.0->tensorboard>=1.15.0->bayesian-torch==0.4.0) (2.0.7)\n",
            "Requirement already satisfied: certifi>=2017.4.17 in /usr/local/lib/python3.10/dist-packages (from requests<3,>=2.21.0->tensorboard>=1.15.0->bayesian-torch==0.4.0) (2023.7.22)\n",
            "Requirement already satisfied: MarkupSafe>=2.1.1 in /usr/local/lib/python3.10/dist-packages (from werkzeug>=1.0.1->tensorboard>=1.15.0->bayesian-torch==0.4.0) (2.1.3)\n",
            "Requirement already satisfied: mpmath>=0.19 in /usr/local/lib/python3.10/dist-packages (from sympy->torch>=1.7.0->bayesian-torch==0.4.0) (1.3.0)\n",
            "Requirement already satisfied: pyasn1<0.6.0,>=0.4.6 in /usr/local/lib/python3.10/dist-packages (from pyasn1-modules>=0.2.1->google-auth<3,>=1.6.3->tensorboard>=1.15.0->bayesian-torch==0.4.0) (0.5.0)\n",
            "Requirement already satisfied: oauthlib>=3.0.0 in /usr/local/lib/python3.10/dist-packages (from requests-oauthlib>=0.7.0->google-auth-oauthlib<1.1,>=0.5->tensorboard>=1.15.0->bayesian-torch==0.4.0) (3.2.2)\n",
            "Building wheels for collected packages: bayesian-torch\n",
            "  Building wheel for bayesian-torch (setup.py) ... \u001b[?25l\u001b[?25hdone\n",
            "  Created wheel for bayesian-torch: filename=bayesian_torch-0.4.0-py3-none-any.whl size=77122 sha256=fe9ae8d42d0c86daaef3350e3959996b1e8667cc2a6065af28e7f19c2a701532\n",
            "  Stored in directory: /root/.cache/pip/wheels/c4/64/36/327a5aa82508f440c69defc36b554b49f41c2b5780c95fb461\n",
            "Successfully built bayesian-torch\n",
            "Installing collected packages: bayesian-torch\n",
            "Successfully installed bayesian-torch-0.4.0\n",
            "Collecting torch_cka\n",
            "  Downloading torch_cka-0.21-py3-none-any.whl (8.1 kB)\n",
            "Installing collected packages: torch_cka\n",
            "Successfully installed torch_cka-0.21\n"
          ]
        }
      ],
      "source": [
        "!git clone https://github.com/IntelLabs/bayesian-torch\n",
        "!pip install bayesian-torch/.\n",
        "!pip install torch_cka"
      ]
    },
    {
      "cell_type": "code",
      "execution_count": 2,
      "metadata": {
        "colab": {
          "base_uri": "https://localhost:8080/"
        },
        "execution": {
          "iopub.execute_input": "2023-10-03T07:51:42.515416Z",
          "iopub.status.busy": "2023-10-03T07:51:42.515269Z",
          "iopub.status.idle": "2023-10-03T07:52:25.511335Z",
          "shell.execute_reply": "2023-10-03T07:52:25.510999Z"
        },
        "id": "uipI0BqhYgiH",
        "outputId": "f0ebabb7-bda6-45b5-b070-36273000c4b0"
      },
      "outputs": [
        {
          "output_type": "execute_result",
          "data": {
            "text/plain": [
              "<torch._C.Generator at 0x7954823c9090>"
            ]
          },
          "metadata": {},
          "execution_count": 2
        }
      ],
      "source": [
        "import torch\n",
        "import torchvision\n",
        "import torch.nn as nn\n",
        "import torch.optim as optim\n",
        "import torch.nn.functional as f\n",
        "import torchvision.datasets as datasets\n",
        "import torchvision.transforms as transforms\n",
        "from torchvision.transforms.autoaugment import AutoAugmentPolicy\n",
        "from bayesian_torch.models.dnn_to_bnn import dnn_to_bnn, get_kl_loss\n",
        "\n",
        "\n",
        "\n",
        "import PIL\n",
        "import math\n",
        "import random\n",
        "import numpy as np\n",
        "from tqdm import tqdm\n",
        "from torch_cka import CKA\n",
        "import matplotlib.pyplot as plt\n",
        "\n",
        "torch.manual_seed(110)\n"
      ]
    },
    {
      "cell_type": "code",
      "execution_count": 3,
      "metadata": {
        "execution": {
          "iopub.execute_input": "2023-10-03T07:52:25.513902Z",
          "iopub.status.busy": "2023-10-03T07:52:25.513238Z",
          "iopub.status.idle": "2023-10-03T07:52:25.743632Z",
          "shell.execute_reply": "2023-10-03T07:52:25.743241Z"
        },
        "id": "Lb-a4C05YkQb"
      },
      "outputs": [],
      "source": [
        "# Check Device configuration\n",
        "device = torch.device('cuda' if torch.cuda.is_available() else 'cpu')\n",
        "\n",
        "max_lr = 0.01\n",
        "grad_clip = 0.1\n",
        "weight_decay = 1e-4\n",
        "\n",
        "\n",
        "num_monte_carlo = 50\n",
        "num_epochs = 200\n",
        "batch_size = 128\n",
        "learning_rate = 0.001"
      ]
    },
    {
      "cell_type": "code",
      "execution_count": 4,
      "metadata": {
        "colab": {
          "base_uri": "https://localhost:8080/"
        },
        "execution": {
          "iopub.execute_input": "2023-10-03T07:52:25.745872Z",
          "iopub.status.busy": "2023-10-03T07:52:25.745716Z",
          "iopub.status.idle": "2023-10-03T07:52:27.670762Z",
          "shell.execute_reply": "2023-10-03T07:52:27.670406Z"
        },
        "id": "RnEijjC3YxbP",
        "outputId": "9f7dfef2-362c-4e22-876b-40410653800d"
      },
      "outputs": [
        {
          "output_type": "stream",
          "name": "stdout",
          "text": [
            "Downloading https://www.cs.toronto.edu/~kriz/cifar-10-python.tar.gz to ./data/cifar-10-python.tar.gz\n"
          ]
        },
        {
          "output_type": "stream",
          "name": "stderr",
          "text": [
            "100%|██████████| 170498071/170498071 [00:01<00:00, 106261969.72it/s]\n"
          ]
        },
        {
          "output_type": "stream",
          "name": "stdout",
          "text": [
            "Extracting ./data/cifar-10-python.tar.gz to ./data/\n",
            "Files already downloaded and verified\n"
          ]
        }
      ],
      "source": [
        "aug_transform = transforms.Compose([\n",
        "  transforms.AutoAugment(AutoAugmentPolicy.CIFAR10),\n",
        "  transforms.ToTensor(),\n",
        "  transforms.Normalize(mean=[0.4914, 0.4822, 0.4465],\n",
        "                                     std=[0.2023, 0.1994, 0.2010])])\n",
        "\n",
        "simple_transform = transforms.Compose([\n",
        "  transforms.ToTensor(),\n",
        "  transforms.Normalize(mean=[0.4914, 0.4822, 0.4465],\n",
        "                                     std=[0.2023, 0.1994, 0.2010])])\n",
        "\n",
        "\n",
        "train_dataset           = torchvision.datasets.CIFAR10(root='./data/' ,train=True,  transform=simple_transform,  download=True)\n",
        "train_aug_dataset       = torchvision.datasets.CIFAR10(root='./data/' ,train=True,  transform=aug_transform,  download=True)\n",
        "test_dataset            = torchvision.datasets.CIFAR10(root='./data/' ,train=False, transform=simple_transform)\n",
        "test_aug_dataset        = torchvision.datasets.CIFAR10(root='./data/' ,train=False, transform=aug_transform)\n",
        "\n",
        "train_loader           = torch.utils.data.DataLoader(dataset=train_dataset, batch_size=batch_size, pin_memory=True, shuffle=True  , drop_last=True)\n",
        "train_aug_loader       = torch.utils.data.DataLoader(dataset=train_aug_dataset , batch_size=batch_size, pin_memory=True, shuffle=True  , drop_last=True)\n",
        "test_loader            = torch.utils.data.DataLoader(dataset=test_dataset,  batch_size=batch_size, pin_memory=True, shuffle=False, drop_last=True )\n",
        "test_aug_loader        = torch.utils.data.DataLoader(dataset=test_aug_dataset,  batch_size=batch_size, pin_memory=True, shuffle=False, drop_last=True )\n"
      ]
    },
    {
      "cell_type": "code",
      "execution_count": 5,
      "metadata": {
        "colab": {
          "base_uri": "https://localhost:8080/",
          "height": 573
        },
        "execution": {
          "iopub.execute_input": "2023-10-03T07:52:27.673337Z",
          "iopub.status.busy": "2023-10-03T07:52:27.672766Z",
          "iopub.status.idle": "2023-10-03T07:52:28.530362Z",
          "shell.execute_reply": "2023-10-03T07:52:28.529981Z"
        },
        "id": "cw4wBO3IY3Ti",
        "outputId": "3a550566-3e73-4b12-87b0-8d4b84bb2de8"
      },
      "outputs": [
        {
          "output_type": "stream",
          "name": "stderr",
          "text": [
            "WARNING:matplotlib.image:Clipping input data to the valid range for imshow with RGB data ([0..1] for floats or [0..255] for integers).\n",
            "WARNING:matplotlib.image:Clipping input data to the valid range for imshow with RGB data ([0..1] for floats or [0..255] for integers).\n",
            "WARNING:matplotlib.image:Clipping input data to the valid range for imshow with RGB data ([0..1] for floats or [0..255] for integers).\n",
            "WARNING:matplotlib.image:Clipping input data to the valid range for imshow with RGB data ([0..1] for floats or [0..255] for integers).\n",
            "WARNING:matplotlib.image:Clipping input data to the valid range for imshow with RGB data ([0..1] for floats or [0..255] for integers).\n",
            "WARNING:matplotlib.image:Clipping input data to the valid range for imshow with RGB data ([0..1] for floats or [0..255] for integers).\n",
            "WARNING:matplotlib.image:Clipping input data to the valid range for imshow with RGB data ([0..1] for floats or [0..255] for integers).\n",
            "WARNING:matplotlib.image:Clipping input data to the valid range for imshow with RGB data ([0..1] for floats or [0..255] for integers).\n",
            "WARNING:matplotlib.image:Clipping input data to the valid range for imshow with RGB data ([0..1] for floats or [0..255] for integers).\n",
            "WARNING:matplotlib.image:Clipping input data to the valid range for imshow with RGB data ([0..1] for floats or [0..255] for integers).\n"
          ]
        },
        {
          "output_type": "display_data",
          "data": {
            "text/plain": [
              "<Figure size 750x400 with 10 Axes>"
            ],
            "image/png": "[encoded data removed]"
          },
          "metadata": {}
        }
      ],
      "source": [
        "def plot_set_images(n_row, n_col, images, labels, label_text=\"Label: \"):\n",
        "  num=len(images)\n",
        "  num_row=n_row\n",
        "  num_col=n_col\n",
        "  fig, axes = plt.subplots(num_row, num_col, figsize=(1.5*num_col,2*num_row))\n",
        "  for i in range(num):\n",
        "      ax = axes[i//num_col, i%num_col]\n",
        "      ax.imshow(np.transpose(images[i].numpy(), (1, 2, 0)))\n",
        "      ax.set_title('{}{}'.format(label_text, labels[i]))\n",
        "  plt.tight_layout()\n",
        "  plt.show()\n",
        "\n",
        "# labels =\n",
        "images_set = []\n",
        "labels_set = []\n",
        "j=0\n",
        "for i in range(10):\n",
        "  while i != train_aug_dataset[j][1]:\n",
        "    j += 1\n",
        "  images_set.append(train_aug_dataset[j][0])\n",
        "  labels_set.append(train_aug_dataset[j][1])\n",
        "\n",
        "\n",
        "plot_set_images(2, 5, images_set, labels_set, \"Label: \")"
      ]
    },
    {
      "cell_type": "code",
      "execution_count": 6,
      "metadata": {
        "execution": {
          "iopub.execute_input": "2023-10-03T07:52:28.533031Z",
          "iopub.status.busy": "2023-10-03T07:52:28.532431Z",
          "iopub.status.idle": "2023-10-03T07:52:28.537962Z",
          "shell.execute_reply": "2023-10-03T07:52:28.537664Z"
        },
        "id": "O3ArrHv9aoke"
      },
      "outputs": [],
      "source": [
        "def pgd_linf_end2end(model, X, labels, epsilon, alpha, num_iter):\n",
        "    delta = torch.zeros_like(X, requires_grad=True).to(device)\n",
        "    for t in range(num_iter):\n",
        "        loss = nn.CrossEntropyLoss()(model((X + delta).to(device)), labels.to(device)).to(device)\n",
        "        loss.backward()\n",
        "        with torch.no_grad():\n",
        "            delta.data = (delta + alpha*delta.grad.detach().sign()).clamp(-epsilon,epsilon)\n",
        "            delta.data = torch.clamp(X + delta.data, min=0, max=1) - X\n",
        "        delta.grad.zero_()\n",
        "    return delta.detach()"
      ]
    },
    {
      "cell_type": "code",
      "execution_count": 7,
      "metadata": {
        "execution": {
          "iopub.execute_input": "2023-10-03T07:52:28.540148Z",
          "iopub.status.busy": "2023-10-03T07:52:28.539574Z",
          "iopub.status.idle": "2023-10-03T07:52:28.542441Z",
          "shell.execute_reply": "2023-10-03T07:52:28.542154Z"
        },
        "id": "OS1-bk3-Y-M2"
      },
      "outputs": [],
      "source": [
        "const_bnn_prior_parameters = {\n",
        "        \"prior_mu\": 0.0,\n",
        "        \"prior_sigma\": 1.0,\n",
        "        \"posterior_mu_init\": 0.0,\n",
        "        \"posterior_rho_init\": -3.0,\n",
        "        \"type\": \"Reparameterization\",  # Flipout or Reparameterization\n",
        "        \"moped_enable\": False,  # True to initialize mu/sigma from the pretrained dnn weights\n",
        "        \"moped_delta\": 0.5,\n",
        "}\n",
        "\n",
        "# model = torchvision.models.resnet18(pretrained=True)\n",
        "# dnn_to_bnn(model, const_bnn_prior_parameters)"
      ]
    },
    {
      "cell_type": "code",
      "execution_count": 8,
      "metadata": {
        "execution": {
          "iopub.execute_input": "2023-10-03T07:52:28.544584Z",
          "iopub.status.busy": "2023-10-03T07:52:28.544000Z",
          "iopub.status.idle": "2023-10-03T07:52:28.548530Z",
          "shell.execute_reply": "2023-10-03T07:52:28.548243Z"
        },
        "id": "vJ_BP8nfZeyR"
      },
      "outputs": [],
      "source": [
        "def test(model,test_loader, eps_t2, alpha, iter_t2, test_type='st'):\n",
        "  model.eval()\n",
        "  total_acc_test = 0\n",
        "\n",
        "  if test_type=='st':\n",
        "    for i, (X, labels) in enumerate(test_loader):\n",
        "          X = X.to(device)\n",
        "          labels = labels.to(device)\n",
        "          output_mc = []\n",
        "          for mc_run in range(num_monte_carlo):\n",
        "                logits = model(X)\n",
        "                probs = torch.nn.functional.softmax(logits, dim=-1)\n",
        "                output_mc.append(probs)\n",
        "          output = torch.stack(output_mc)\n",
        "          pred_mean = output.mean(dim=0)\n",
        "          y_pred = torch.argmax(pred_mean, axis=-1)\n",
        "          total_acc_test += (y_pred.data.cpu().numpy() == labels.data.cpu().numpy()).sum()\n",
        "          # break\n",
        "\n",
        "    print('Acc_Test =', total_acc_test / len(test_loader.dataset),sep=\"\\t\")\n",
        "    return total_acc_test / len(test_loader.dataset)\n",
        "\n",
        "\n",
        "  elif test_type=='at':\n",
        "    for i, (X, labels) in enumerate(test_loader):\n",
        "          X = X.to(device)\n",
        "          labels = labels.to(device)\n",
        "          delta = pgd_linf_end2end(model, X, labels, eps_t2, alpha, iter_t2)\n",
        "          X_adv = (X + delta).to(device)\n",
        "          output_mc = []\n",
        "          for mc_run in range(num_monte_carlo):\n",
        "                logits = model(X_adv)\n",
        "                probs = torch.nn.functional.softmax(logits, dim=-1)\n",
        "                output_mc.append(probs)\n",
        "          output = torch.stack(output_mc)\n",
        "          pred_mean = output.mean(dim=0)\n",
        "          y_pred = torch.argmax(pred_mean, axis=-1)\n",
        "          total_acc_test += (y_pred.data.cpu().numpy() == labels.data.cpu().numpy()).sum()\n",
        "          # break\n",
        "    print('Acc_Test =', total_acc_test / len(test_loader.dataset),sep=\"\\t\")\n",
        "    return total_acc_test / len(test_loader.dataset)\n",
        "\n",
        "\n",
        "# model = torchvision.models.resnet18(pretrained=False).to(device)\n",
        "# model.fc = nn.Linear(model.fc.in_features, 10)\n",
        "# dnn_to_bnn(model, const_bnn_prior_parameters)\n",
        "\n",
        "# test(model.to(device),test_loader, 8/255, 0.01, 20, test_type='at')\n"
      ]
    },
    {
      "cell_type": "code",
      "execution_count": 13,
      "metadata": {
        "execution": {
          "iopub.execute_input": "2023-10-03T07:52:28.550660Z",
          "iopub.status.busy": "2023-10-03T07:52:28.550087Z",
          "iopub.status.idle": "2023-10-03T07:52:28.557063Z",
          "shell.execute_reply": "2023-10-03T07:52:28.556785Z"
        },
        "id": "ruwhquHG23__"
      },
      "outputs": [],
      "source": [
        "def train(model, train_loader, criterion, eps_AT, alpha, iter_AT, T1=1, T2=1, training_type='st'):\n",
        "  model.train()\n",
        "  lr = 0.001\n",
        "  learning_rate = 0.001\n",
        "\n",
        "  if training_type == 'st':\n",
        "    for epoch in range(num_epochs):\n",
        "        if epoch >= 80 and epoch < 120:\n",
        "                learning_rate = 0.1 * lr\n",
        "        elif epoch >= 120 and epoch < 160:\n",
        "                learning_rate = 0.01 * lr\n",
        "        elif epoch >= 160 and epoch < 180:\n",
        "                learning_rate = 0.001 * lr\n",
        "        elif epoch >= 180:\n",
        "                learning_rate = 0.0005 * lr\n",
        "\n",
        "        optimizer = torch.optim.Adam(model.parameters(), lr=learning_rate)\n",
        "\n",
        "        losses=[]\n",
        "        for i, (images, labels) in enumerate(train_loader):\n",
        "            images = images.to(device)\n",
        "            labels = labels.to(device)\n",
        "            outputs =  model(images).to(device)\n",
        "            loss1 = criterion(outputs, labels)\n",
        "            kl = get_kl_loss(model).to(device)\n",
        "\n",
        "            loss = ((loss1**(1.0/T1)) + ((kl / batch_size)**T2)).to(device)\n",
        "            # print(loss.item())\n",
        "            losses.append(loss.item())\n",
        "\n",
        "            # Backward and optimize\n",
        "            optimizer.zero_grad()\n",
        "            loss.backward()\n",
        "            optimizer.step()\n",
        "            # break\n",
        "\n",
        "\n",
        "        if epoch%5==0:\n",
        "          print('epoch : ' + str(epoch) +' -->  loss_Train = ' + str(np.array(losses).mean()))\n",
        "          test(model,test_loader, eps_AT, 0.01, 20, test_type='st')\n",
        "          test(model,test_aug_loader, eps_AT, 0.01, 20, test_type='st')\n",
        "          test(model,test_aug_loader, eps_AT, 0.01, 20, test_type='at')\n",
        "          model.train()\n",
        "          print()\n",
        "\n",
        "\n",
        "\n",
        "\n",
        "  elif training_type == 'at':\n",
        "    for epoch in range(num_epochs):\n",
        "        if epoch >= 80 and epoch < 120:\n",
        "                learning_rate = 0.1 * lr\n",
        "        elif epoch >= 120 and epoch < 160:\n",
        "                learning_rate = 0.01 * lr\n",
        "        elif epoch >= 160 and epoch < 180:\n",
        "                learning_rate = 0.001 * lr\n",
        "        elif epoch >= 180:\n",
        "                learning_rate = 0.0005 * lr\n",
        "        optimizer = torch.optim.Adam(model.parameters(), lr=learning_rate)\n",
        "\n",
        "        losses=[]\n",
        "        for i, (images, labels) in enumerate(train_loader):\n",
        "            images = images.to(device)\n",
        "            labels = labels.to(device)\n",
        "            delta = pgd_linf_end2end(model, images, labels, eps_AT, alpha, iter_AT)\n",
        "            images_adv = (images + delta)\n",
        "            Z_x0 = model(images_adv).to(device)\n",
        "            loss1 = criterion(Z_x0, labels).to(device)\n",
        "            kl = get_kl_loss(model).to(device)\n",
        "\n",
        "            loss = ((loss1**(1.0/T1)) + ((kl / batch_size)**T2)).to(device)\n",
        "            # # print(loss.item())\n",
        "            losses.append(loss.item())\n",
        "\n",
        "#           # Backward and optimize\n",
        "            optimizer.zero_grad()\n",
        "            loss.backward()\n",
        "            optimizer.step()\n",
        "            # break\n",
        "\n",
        "\n",
        "        if epoch%5==0:\n",
        "          print('epoch : ' + str(epoch) +' -->  loss_Train = ' + str(np.array(losses).mean()))\n",
        "          test(model,test_loader, eps_AT, 0.01, 20, test_type='st')\n",
        "          test(model,test_aug_loader, eps_AT, 0.01, 20, test_type='st')\n",
        "          test(model,test_aug_loader, eps_AT, 0.01, 20, test_type='at')\n",
        "          model.train()\n",
        "          print()\n",
        "\n",
        "  return model\n"
      ]
    },
    {
      "cell_type": "code",
      "execution_count": 14,
      "metadata": {
        "colab": {
          "base_uri": "https://localhost:8080/",
          "height": 494
        },
        "execution": {
          "iopub.execute_input": "2023-10-03T07:52:28.559183Z",
          "iopub.status.busy": "2023-10-03T07:52:28.558616Z",
          "iopub.status.idle": "2023-10-03T14:37:37.258042Z",
          "shell.execute_reply": "2023-10-03T14:37:37.244874Z"
        },
        "id": "IzkA6q3oZowz",
        "outputId": "1ac5bc0c-0b02-4a75-b1d9-26c4fe67e616"
      },
      "outputs": [
        {
          "output_type": "stream",
          "name": "stdout",
          "text": [
            "\n",
            "\n",
            "Training a BNN by augmented data and standard scheme: \n"
          ]
        },
        {
          "output_type": "error",
          "ename": "OutOfMemoryError",
          "evalue": "ignored",
          "traceback": [
            "\u001b[0;31m---------------------------------------------------------------------------\u001b[0m",
            "\u001b[0;31mOutOfMemoryError\u001b[0m                          Traceback (most recent call last)",
            "\u001b[0;32m<ipython-input-14-43ed84f58d2e>\u001b[0m in \u001b[0;36m<cell line: 6>\u001b[0;34m()\u001b[0m\n\u001b[1;32m      9\u001b[0m     \u001b[0mprint\u001b[0m\u001b[0;34m(\u001b[0m\u001b[0;34m)\u001b[0m\u001b[0;34m\u001b[0m\u001b[0;34m\u001b[0m\u001b[0m\n\u001b[1;32m     10\u001b[0m     \u001b[0mprint\u001b[0m\u001b[0;34m(\u001b[0m\u001b[0;34m\"Training a BNN by augmented data and standard scheme: \"\u001b[0m\u001b[0;34m)\u001b[0m\u001b[0;34m\u001b[0m\u001b[0;34m\u001b[0m\u001b[0m\n\u001b[0;32m---> 11\u001b[0;31m     \u001b[0mmodel\u001b[0m \u001b[0;34m=\u001b[0m \u001b[0mtorchvision\u001b[0m\u001b[0;34m.\u001b[0m\u001b[0mmodels\u001b[0m\u001b[0;34m.\u001b[0m\u001b[0mresnet18\u001b[0m\u001b[0;34m(\u001b[0m\u001b[0mpretrained\u001b[0m\u001b[0;34m=\u001b[0m\u001b[0;32mFalse\u001b[0m\u001b[0;34m)\u001b[0m\u001b[0;34m.\u001b[0m\u001b[0mto\u001b[0m\u001b[0;34m(\u001b[0m\u001b[0mdevice\u001b[0m\u001b[0;34m)\u001b[0m\u001b[0;34m\u001b[0m\u001b[0;34m\u001b[0m\u001b[0m\n\u001b[0m\u001b[1;32m     12\u001b[0m     \u001b[0mmodel\u001b[0m\u001b[0;34m.\u001b[0m\u001b[0mfc\u001b[0m \u001b[0;34m=\u001b[0m \u001b[0mnn\u001b[0m\u001b[0;34m.\u001b[0m\u001b[0mLinear\u001b[0m\u001b[0;34m(\u001b[0m\u001b[0mmodel\u001b[0m\u001b[0;34m.\u001b[0m\u001b[0mfc\u001b[0m\u001b[0;34m.\u001b[0m\u001b[0min_features\u001b[0m\u001b[0;34m,\u001b[0m \u001b[0;36m10\u001b[0m\u001b[0;34m)\u001b[0m\u001b[0;34m\u001b[0m\u001b[0;34m\u001b[0m\u001b[0m\n\u001b[1;32m     13\u001b[0m     \u001b[0mdnn_to_bnn\u001b[0m\u001b[0;34m(\u001b[0m\u001b[0mmodel\u001b[0m\u001b[0;34m,\u001b[0m \u001b[0mconst_bnn_prior_parameters\u001b[0m\u001b[0;34m)\u001b[0m\u001b[0;34m\u001b[0m\u001b[0;34m\u001b[0m\u001b[0m\n",
            "\u001b[0;32m/usr/local/lib/python3.10/dist-packages/torch/nn/modules/module.py\u001b[0m in \u001b[0;36mto\u001b[0;34m(self, *args, **kwargs)\u001b[0m\n\u001b[1;32m   1158\u001b[0m             \u001b[0;32mreturn\u001b[0m \u001b[0mt\u001b[0m\u001b[0;34m.\u001b[0m\u001b[0mto\u001b[0m\u001b[0;34m(\u001b[0m\u001b[0mdevice\u001b[0m\u001b[0;34m,\u001b[0m \u001b[0mdtype\u001b[0m \u001b[0;32mif\u001b[0m \u001b[0mt\u001b[0m\u001b[0;34m.\u001b[0m\u001b[0mis_floating_point\u001b[0m\u001b[0;34m(\u001b[0m\u001b[0;34m)\u001b[0m \u001b[0;32mor\u001b[0m \u001b[0mt\u001b[0m\u001b[0;34m.\u001b[0m\u001b[0mis_complex\u001b[0m\u001b[0;34m(\u001b[0m\u001b[0;34m)\u001b[0m \u001b[0;32melse\u001b[0m \u001b[0;32mNone\u001b[0m\u001b[0;34m,\u001b[0m \u001b[0mnon_blocking\u001b[0m\u001b[0;34m)\u001b[0m\u001b[0;34m\u001b[0m\u001b[0;34m\u001b[0m\u001b[0m\n\u001b[1;32m   1159\u001b[0m \u001b[0;34m\u001b[0m\u001b[0m\n\u001b[0;32m-> 1160\u001b[0;31m         \u001b[0;32mreturn\u001b[0m \u001b[0mself\u001b[0m\u001b[0;34m.\u001b[0m\u001b[0m_apply\u001b[0m\u001b[0;34m(\u001b[0m\u001b[0mconvert\u001b[0m\u001b[0;34m)\u001b[0m\u001b[0;34m\u001b[0m\u001b[0;34m\u001b[0m\u001b[0m\n\u001b[0m\u001b[1;32m   1161\u001b[0m \u001b[0;34m\u001b[0m\u001b[0m\n\u001b[1;32m   1162\u001b[0m     def register_full_backward_pre_hook(\n",
            "\u001b[0;32m/usr/local/lib/python3.10/dist-packages/torch/nn/modules/module.py\u001b[0m in \u001b[0;36m_apply\u001b[0;34m(self, fn, recurse)\u001b[0m\n\u001b[1;32m    808\u001b[0m         \u001b[0;32mif\u001b[0m \u001b[0mrecurse\u001b[0m\u001b[0;34m:\u001b[0m\u001b[0;34m\u001b[0m\u001b[0;34m\u001b[0m\u001b[0m\n\u001b[1;32m    809\u001b[0m             \u001b[0;32mfor\u001b[0m \u001b[0mmodule\u001b[0m \u001b[0;32min\u001b[0m \u001b[0mself\u001b[0m\u001b[0;34m.\u001b[0m\u001b[0mchildren\u001b[0m\u001b[0;34m(\u001b[0m\u001b[0;34m)\u001b[0m\u001b[0;34m:\u001b[0m\u001b[0;34m\u001b[0m\u001b[0;34m\u001b[0m\u001b[0m\n\u001b[0;32m--> 810\u001b[0;31m                 \u001b[0mmodule\u001b[0m\u001b[0;34m.\u001b[0m\u001b[0m_apply\u001b[0m\u001b[0;34m(\u001b[0m\u001b[0mfn\u001b[0m\u001b[0;34m)\u001b[0m\u001b[0;34m\u001b[0m\u001b[0;34m\u001b[0m\u001b[0m\n\u001b[0m\u001b[1;32m    811\u001b[0m \u001b[0;34m\u001b[0m\u001b[0m\n\u001b[1;32m    812\u001b[0m         \u001b[0;32mdef\u001b[0m \u001b[0mcompute_should_use_set_data\u001b[0m\u001b[0;34m(\u001b[0m\u001b[0mtensor\u001b[0m\u001b[0;34m,\u001b[0m \u001b[0mtensor_applied\u001b[0m\u001b[0;34m)\u001b[0m\u001b[0;34m:\u001b[0m\u001b[0;34m\u001b[0m\u001b[0;34m\u001b[0m\u001b[0m\n",
            "\u001b[0;32m/usr/local/lib/python3.10/dist-packages/torch/nn/modules/module.py\u001b[0m in \u001b[0;36m_apply\u001b[0;34m(self, fn, recurse)\u001b[0m\n\u001b[1;32m    808\u001b[0m         \u001b[0;32mif\u001b[0m \u001b[0mrecurse\u001b[0m\u001b[0;34m:\u001b[0m\u001b[0;34m\u001b[0m\u001b[0;34m\u001b[0m\u001b[0m\n\u001b[1;32m    809\u001b[0m             \u001b[0;32mfor\u001b[0m \u001b[0mmodule\u001b[0m \u001b[0;32min\u001b[0m \u001b[0mself\u001b[0m\u001b[0;34m.\u001b[0m\u001b[0mchildren\u001b[0m\u001b[0;34m(\u001b[0m\u001b[0;34m)\u001b[0m\u001b[0;34m:\u001b[0m\u001b[0;34m\u001b[0m\u001b[0;34m\u001b[0m\u001b[0m\n\u001b[0;32m--> 810\u001b[0;31m                 \u001b[0mmodule\u001b[0m\u001b[0;34m.\u001b[0m\u001b[0m_apply\u001b[0m\u001b[0;34m(\u001b[0m\u001b[0mfn\u001b[0m\u001b[0;34m)\u001b[0m\u001b[0;34m\u001b[0m\u001b[0;34m\u001b[0m\u001b[0m\n\u001b[0m\u001b[1;32m    811\u001b[0m \u001b[0;34m\u001b[0m\u001b[0m\n\u001b[1;32m    812\u001b[0m         \u001b[0;32mdef\u001b[0m \u001b[0mcompute_should_use_set_data\u001b[0m\u001b[0;34m(\u001b[0m\u001b[0mtensor\u001b[0m\u001b[0;34m,\u001b[0m \u001b[0mtensor_applied\u001b[0m\u001b[0;34m)\u001b[0m\u001b[0;34m:\u001b[0m\u001b[0;34m\u001b[0m\u001b[0;34m\u001b[0m\u001b[0m\n",
            "\u001b[0;32m/usr/local/lib/python3.10/dist-packages/torch/nn/modules/module.py\u001b[0m in \u001b[0;36m_apply\u001b[0;34m(self, fn, recurse)\u001b[0m\n\u001b[1;32m    808\u001b[0m         \u001b[0;32mif\u001b[0m \u001b[0mrecurse\u001b[0m\u001b[0;34m:\u001b[0m\u001b[0;34m\u001b[0m\u001b[0;34m\u001b[0m\u001b[0m\n\u001b[1;32m    809\u001b[0m             \u001b[0;32mfor\u001b[0m \u001b[0mmodule\u001b[0m \u001b[0;32min\u001b[0m \u001b[0mself\u001b[0m\u001b[0;34m.\u001b[0m\u001b[0mchildren\u001b[0m\u001b[0;34m(\u001b[0m\u001b[0;34m)\u001b[0m\u001b[0;34m:\u001b[0m\u001b[0;34m\u001b[0m\u001b[0;34m\u001b[0m\u001b[0m\n\u001b[0;32m--> 810\u001b[0;31m                 \u001b[0mmodule\u001b[0m\u001b[0;34m.\u001b[0m\u001b[0m_apply\u001b[0m\u001b[0;34m(\u001b[0m\u001b[0mfn\u001b[0m\u001b[0;34m)\u001b[0m\u001b[0;34m\u001b[0m\u001b[0;34m\u001b[0m\u001b[0m\n\u001b[0m\u001b[1;32m    811\u001b[0m \u001b[0;34m\u001b[0m\u001b[0m\n\u001b[1;32m    812\u001b[0m         \u001b[0;32mdef\u001b[0m \u001b[0mcompute_should_use_set_data\u001b[0m\u001b[0;34m(\u001b[0m\u001b[0mtensor\u001b[0m\u001b[0;34m,\u001b[0m \u001b[0mtensor_applied\u001b[0m\u001b[0;34m)\u001b[0m\u001b[0;34m:\u001b[0m\u001b[0;34m\u001b[0m\u001b[0;34m\u001b[0m\u001b[0m\n",
            "\u001b[0;32m/usr/local/lib/python3.10/dist-packages/torch/nn/modules/module.py\u001b[0m in \u001b[0;36m_apply\u001b[0;34m(self, fn, recurse)\u001b[0m\n\u001b[1;32m    831\u001b[0m             \u001b[0;31m# `with torch.no_grad():`\u001b[0m\u001b[0;34m\u001b[0m\u001b[0;34m\u001b[0m\u001b[0m\n\u001b[1;32m    832\u001b[0m             \u001b[0;32mwith\u001b[0m \u001b[0mtorch\u001b[0m\u001b[0;34m.\u001b[0m\u001b[0mno_grad\u001b[0m\u001b[0;34m(\u001b[0m\u001b[0;34m)\u001b[0m\u001b[0;34m:\u001b[0m\u001b[0;34m\u001b[0m\u001b[0;34m\u001b[0m\u001b[0m\n\u001b[0;32m--> 833\u001b[0;31m                 \u001b[0mparam_applied\u001b[0m \u001b[0;34m=\u001b[0m \u001b[0mfn\u001b[0m\u001b[0;34m(\u001b[0m\u001b[0mparam\u001b[0m\u001b[0;34m)\u001b[0m\u001b[0;34m\u001b[0m\u001b[0;34m\u001b[0m\u001b[0m\n\u001b[0m\u001b[1;32m    834\u001b[0m             \u001b[0mshould_use_set_data\u001b[0m \u001b[0;34m=\u001b[0m \u001b[0mcompute_should_use_set_data\u001b[0m\u001b[0;34m(\u001b[0m\u001b[0mparam\u001b[0m\u001b[0;34m,\u001b[0m \u001b[0mparam_applied\u001b[0m\u001b[0;34m)\u001b[0m\u001b[0;34m\u001b[0m\u001b[0;34m\u001b[0m\u001b[0m\n\u001b[1;32m    835\u001b[0m             \u001b[0;32mif\u001b[0m \u001b[0mshould_use_set_data\u001b[0m\u001b[0;34m:\u001b[0m\u001b[0;34m\u001b[0m\u001b[0;34m\u001b[0m\u001b[0m\n",
            "\u001b[0;32m/usr/local/lib/python3.10/dist-packages/torch/nn/modules/module.py\u001b[0m in \u001b[0;36mconvert\u001b[0;34m(t)\u001b[0m\n\u001b[1;32m   1156\u001b[0m                 return t.to(device, dtype if t.is_floating_point() or t.is_complex() else None,\n\u001b[1;32m   1157\u001b[0m                             non_blocking, memory_format=convert_to_format)\n\u001b[0;32m-> 1158\u001b[0;31m             \u001b[0;32mreturn\u001b[0m \u001b[0mt\u001b[0m\u001b[0;34m.\u001b[0m\u001b[0mto\u001b[0m\u001b[0;34m(\u001b[0m\u001b[0mdevice\u001b[0m\u001b[0;34m,\u001b[0m \u001b[0mdtype\u001b[0m \u001b[0;32mif\u001b[0m \u001b[0mt\u001b[0m\u001b[0;34m.\u001b[0m\u001b[0mis_floating_point\u001b[0m\u001b[0;34m(\u001b[0m\u001b[0;34m)\u001b[0m \u001b[0;32mor\u001b[0m \u001b[0mt\u001b[0m\u001b[0;34m.\u001b[0m\u001b[0mis_complex\u001b[0m\u001b[0;34m(\u001b[0m\u001b[0;34m)\u001b[0m \u001b[0;32melse\u001b[0m \u001b[0;32mNone\u001b[0m\u001b[0;34m,\u001b[0m \u001b[0mnon_blocking\u001b[0m\u001b[0;34m)\u001b[0m\u001b[0;34m\u001b[0m\u001b[0;34m\u001b[0m\u001b[0m\n\u001b[0m\u001b[1;32m   1159\u001b[0m \u001b[0;34m\u001b[0m\u001b[0m\n\u001b[1;32m   1160\u001b[0m         \u001b[0;32mreturn\u001b[0m \u001b[0mself\u001b[0m\u001b[0;34m.\u001b[0m\u001b[0m_apply\u001b[0m\u001b[0;34m(\u001b[0m\u001b[0mconvert\u001b[0m\u001b[0;34m)\u001b[0m\u001b[0;34m\u001b[0m\u001b[0;34m\u001b[0m\u001b[0m\n",
            "\u001b[0;31mOutOfMemoryError\u001b[0m: CUDA out of memory. Tried to allocate 20.00 MiB. GPU 0 has a total capacty of 14.75 GiB of which 4.81 MiB is free. Process 2082 has 14.74 GiB memory in use. Of the allocated memory 13.61 GiB is allocated by PyTorch, and 16.65 MiB is reserved by PyTorch but unallocated. If reserved but unallocated memory is large try setting max_split_size_mb to avoid fragmentation.  See documentation for Memory Management and PYTORCH_CUDA_ALLOC_CONF"
          ]
        }
      ],
      "source": [
        "models = []\n",
        "losses = []\n",
        "\n",
        "model_type = ['st', 'at', 'st_c', 'at_c', 'at_c_w', 'at_w']\n",
        "\n",
        "for mt in model_type:\n",
        "  if mt=='st':\n",
        "    print()\n",
        "    print()\n",
        "    print(\"Training a BNN by augmented data and standard scheme: \")\n",
        "    model = torchvision.models.resnet18(pretrained=False).to(device)\n",
        "    model.fc = nn.Linear(model.fc.in_features, 10)\n",
        "    dnn_to_bnn(model, const_bnn_prior_parameters)\n",
        "    criterion = nn.CrossEntropyLoss()\n",
        "    trained_model = train(model.to(device), train_aug_loader, criterion, 8/255, 0.01, 5, T1=1, T2=1, training_type='st')\n",
        "    models.append(trained_model)\n",
        "\n",
        "    print(\"###########################################################################################\")\n",
        "\n",
        "\n",
        "  if mt=='at':\n",
        "    print()\n",
        "    print()\n",
        "    print(\"Training a BNN by augmented data and adversarial scheme: \")\n",
        "    model = torchvision.models.resnet18(pretrained=False).to(device)\n",
        "    model.fc = nn.Linear(model.fc.in_features, 10)\n",
        "    dnn_to_bnn(model, const_bnn_prior_parameters)\n",
        "    criterion = nn.CrossEntropyLoss()\n",
        "    trained_model = train(model.to(device), train_aug_loader, criterion, 8/255, 0.01, 5, T1=1, T2=1, training_type='at')\n",
        "    models.append(trained_model)\n",
        "\n",
        "    print(\"###########################################################################################\")\n",
        "\n",
        "  if mt=='st_c':\n",
        "    print()\n",
        "    print()\n",
        "    print(\"Training a BNN by clean data and standard scheme: \")\n",
        "    model = torchvision.models.resnet18(pretrained=False).to(device)\n",
        "    model.fc = nn.Linear(model.fc.in_features, 10)\n",
        "    dnn_to_bnn(model, const_bnn_prior_parameters)\n",
        "    criterion = nn.CrossEntropyLoss()\n",
        "    trained_model = train(model.to(device), train_loader, criterion, 8/255, 0.01, 5, T1=1, T2=1, training_type='st')\n",
        "    models.append(trained_model)\n",
        "\n",
        "    print(\"###########################################################################################\")\n",
        "\n",
        "  if mt=='at_c':\n",
        "    print()\n",
        "    print()\n",
        "    print(\"Training a BNN by clean data and adversarial scheme: \")\n",
        "    model = torchvision.models.resnet18(pretrained=False).to(device)\n",
        "    model.fc = nn.Linear(model.fc.in_features, 10)\n",
        "    dnn_to_bnn(model, const_bnn_prior_parameters)\n",
        "    criterion = nn.CrossEntropyLoss()\n",
        "    trained_model = train(model.to(device), train_loader, criterion,  8/255, 0.01, 5, T1=1, T2=1, training_type='at')\n",
        "    models.append(trained_model)\n",
        "\n",
        "    print(\"###########################################################################################\")\n",
        "\n",
        "  if mt=='at_c_w':\n",
        "      print()\n",
        "      print()\n",
        "      print(\"Training a BNN by clean data and adversarial scheme and low epsilon: \")\n",
        "      model = torchvision.models.resnet18(pretrained=False).to(device)\n",
        "      model.fc = nn.Linear(model.fc.in_features, 10)\n",
        "      dnn_to_bnn(model, const_bnn_prior_parameters)\n",
        "      criterion = nn.CrossEntropyLoss()\n",
        "      trained_model = train(model.to(device), train_loader, criterion, 2/255, 0.01, 5, T1=1, T2=1, training_type='at')\n",
        "      models.append(trained_model)\n",
        "\n",
        "      print(\"###########################################################################################\")\n",
        "\n",
        "  if mt=='at_w':\n",
        "      print()\n",
        "      print()\n",
        "      print(\"Training a BNN by augmented data and adversarial scheme and low epsilon: \")\n",
        "      model = torchvision.models.resnet18(pretrained=False).to(device)\n",
        "      model.fc = nn.Linear(model.fc.in_features, 10)\n",
        "      dnn_to_bnn(model, const_bnn_prior_parameters)\n",
        "      criterion = nn.CrossEntropyLoss()\n",
        "      trained_model = train(model.to(device), train_aug_loader, criterion, 2/255, 0.01, 5, T1=1, T2=1, training_type='at')\n",
        "      models.append(trained_model)\n",
        "\n"
      ]
    },
    {
      "cell_type": "code",
      "execution_count": null,
      "metadata": {
        "execution": {
          "iopub.execute_input": "2023-10-03T14:37:37.340155Z",
          "iopub.status.busy": "2023-10-03T14:37:37.339355Z",
          "iopub.status.idle": "2023-10-03T14:37:37.471607Z",
          "shell.execute_reply": "2023-10-03T14:37:37.471220Z"
        },
        "id": "EwxnvMTuK8sm"
      },
      "outputs": [],
      "source": [
        "def representation_comparison(model1, model2, model1_name, model2_name, dataloader1, dataloader2):\n",
        "  cka = CKA(model1, model2,\n",
        "            model1_name=model1_name,   # good idea to provide names to avoid confusion\n",
        "            model2_name=model2_name,\n",
        "            device=device)\n",
        "\n",
        "  cka.compare(dataloader1, dataloader2) # secondary dataloader is optional\n",
        "\n",
        "  results = cka.export()  # returns a dict that contains model names, layer names\n",
        "\n",
        "  return results"
      ]
    },
    {
      "cell_type": "code",
      "execution_count": null,
      "metadata": {
        "execution": {
          "iopub.execute_input": "2023-10-03T14:37:37.474423Z",
          "iopub.status.busy": "2023-10-03T14:37:37.473702Z",
          "iopub.status.idle": "2023-10-03T14:37:37.477751Z",
          "shell.execute_reply": "2023-10-03T14:37:37.477469Z"
        },
        "id": "yYPvlOv6WLWG"
      },
      "outputs": [],
      "source": [
        "def conf_matrix(results):\n",
        "  fig, ax = plt.subplots()\n",
        "  im = ax.imshow(results['CKA'], origin='lower', cmap='magma')\n",
        "  ax.set_xlabel(f\"Layers {results['model1_name']}\", fontsize=15)\n",
        "  ax.set_ylabel(f\"Layers {results['model2_name']}\", fontsize=15)\n",
        "\n",
        "  plt.tight_layout()"
      ]
    },
    {
      "cell_type": "code",
      "execution_count": null,
      "metadata": {
        "execution": {
          "iopub.execute_input": "2023-10-03T08:39:30.862865Z",
          "iopub.status.busy": "2023-10-03T08:39:30.862268Z",
          "iopub.status.idle": "2023-10-03T08:44:44.279567Z",
          "shell.execute_reply": "2023-10-03T08:44:44.279193Z"
        },
        "id": "TZ5I0z8mVv_j"
      },
      "outputs": [],
      "source": [
        "results10 = representation_comparison(models[0], models[0], \"Resnet18_st_aug\", \"Resnet18_st_aug\", test_loader, test_loader)\n",
        "conf_matrix(results10)"
      ]
    },
    {
      "cell_type": "code",
      "source": [
        "results11 = representation_comparison(models[1], models[1], \"Resnet18_at_aug\", \"Resnet18_at_aug\", test_loader, test_loader)\n",
        "conf_matrix(results11)"
      ],
      "metadata": {
        "id": "Q9sQYbaPVvY7"
      },
      "execution_count": null,
      "outputs": []
    },
    {
      "cell_type": "code",
      "source": [
        "results12 = representation_comparison(models[2], models[2], \"Resnet18_st_clean\", \"Resnet18_st_clean\", test_loader, test_loader)\n",
        "conf_matrix(results12)"
      ],
      "metadata": {
        "id": "nbQv24gNWGNS"
      },
      "execution_count": null,
      "outputs": []
    },
    {
      "cell_type": "code",
      "source": [
        "results13 = representation_comparison(models[3], models[3], \"Resnet18_at_clean\", \"Resnet18_at_clean\", test_loader, test_loader)\n",
        "conf_matrix(results13)"
      ],
      "metadata": {
        "id": "DqF8ECKkWUbd"
      },
      "execution_count": null,
      "outputs": []
    },
    {
      "cell_type": "code",
      "execution_count": null,
      "metadata": {
        "execution": {
          "iopub.execute_input": "2023-10-03T08:39:30.862865Z",
          "iopub.status.busy": "2023-10-03T08:39:30.862268Z",
          "iopub.status.idle": "2023-10-03T08:44:44.279567Z",
          "shell.execute_reply": "2023-10-03T08:44:44.279193Z"
        },
        "id": "c7GNdAAAhtqp"
      },
      "outputs": [],
      "source": [
        "results14 = representation_comparison(models[4], models[4], \"Resnet18_at_w_clean\", \"Resnet18_at_w_clean\", test_loader, test_loader)\n",
        "conf_matrix(results14)"
      ]
    },
    {
      "cell_type": "code",
      "source": [
        "results15 = representation_comparison(models[5], models[5], \"Resnet18_at_w_aug\", \"Resnet18_at_w_aug\", test_loader, test_loader)\n",
        "conf_matrix(results15)"
      ],
      "metadata": {
        "id": "XdVhuVh-htqp"
      },
      "execution_count": null,
      "outputs": []
    },
    {
      "cell_type": "code",
      "execution_count": null,
      "metadata": {
        "execution": {
          "iopub.execute_input": "2023-10-03T08:39:30.862865Z",
          "iopub.status.busy": "2023-10-03T08:39:30.862268Z",
          "iopub.status.idle": "2023-10-03T08:44:44.279567Z",
          "shell.execute_reply": "2023-10-03T08:44:44.279193Z"
        },
        "id": "pFvo88wWoDvA"
      },
      "outputs": [],
      "source": [
        "results16 = representation_comparison(models[4], models[3], \"Resnet18_at_w_clean\", \"Resnet18_at_h_clean\", test_loader, test_loader)\n",
        "conf_matrix(results16)"
      ]
    },
    {
      "cell_type": "code",
      "source": [
        "results17 = representation_comparison(models[5], models[1], \"Resnet18_at_w_aug\", \"Resnet18_at_h_aug\", test_loader, test_loader)\n",
        "conf_matrix(results17)"
      ],
      "metadata": {
        "id": "HFDzJTd3oDvA"
      },
      "execution_count": null,
      "outputs": []
    },
    {
      "cell_type": "code",
      "execution_count": null,
      "metadata": {
        "execution": {
          "iopub.execute_input": "2023-10-03T14:37:37.479876Z",
          "iopub.status.busy": "2023-10-03T14:37:37.479297Z",
          "iopub.status.idle": "2023-10-03T14:43:15.569987Z",
          "shell.execute_reply": "2023-10-03T14:43:15.569591Z"
        },
        "id": "wiX6-VXrnzx3"
      },
      "outputs": [],
      "source": [
        "results0 = representation_comparison(models[2], models[0], \"Resnet18_st_clean\", \"Resnet18_st_aug\", test_loader, test_loader)\n",
        "conf_matrix(results0)"
      ]
    },
    {
      "cell_type": "code",
      "execution_count": null,
      "metadata": {
        "execution": {
          "iopub.execute_input": "2023-10-03T14:43:15.572638Z",
          "iopub.status.busy": "2023-10-03T14:43:15.572023Z",
          "iopub.status.idle": "2023-10-03T14:48:50.366149Z",
          "shell.execute_reply": "2023-10-03T14:48:50.365764Z"
        },
        "id": "x2PQekICTu67"
      },
      "outputs": [],
      "source": [
        "results1 = representation_comparison(models[0], models[1], \"Resnet18_st_aug\", \"Resnet18_at_aug\", test_loader, test_loader)\n",
        "conf_matrix(results1)"
      ]
    },
    {
      "cell_type": "code",
      "execution_count": null,
      "metadata": {
        "execution": {
          "iopub.execute_input": "2023-10-03T14:48:50.368878Z",
          "iopub.status.busy": "2023-10-03T14:48:50.368274Z",
          "iopub.status.idle": "2023-10-03T14:54:29.584502Z",
          "shell.execute_reply": "2023-10-03T14:54:29.584097Z"
        },
        "id": "Q9QD6s0ToGC4"
      },
      "outputs": [],
      "source": [
        "results2 = representation_comparison(models[2], models[0], \"Resnet18_st_clean\", \"Resnet18_st_aug\", test_aug_loader, test_aug_loader)\n",
        "conf_matrix(results2)"
      ]
    },
    {
      "cell_type": "code",
      "execution_count": null,
      "metadata": {
        "execution": {
          "iopub.execute_input": "2023-10-03T14:54:29.587042Z",
          "iopub.status.busy": "2023-10-03T14:54:29.586449Z",
          "iopub.status.idle": "2023-10-03T15:00:09.069699Z",
          "shell.execute_reply": "2023-10-03T15:00:09.069304Z"
        },
        "id": "Pyw9P7nEoUnt"
      },
      "outputs": [],
      "source": [
        "results3 = representation_comparison(models[0], models[1], \"Resnet18_st_aug\", \"Resnet18_at_aug\", test_aug_loader, test_aug_loader)\n",
        "conf_matrix(results3)"
      ]
    },
    {
      "cell_type": "code",
      "execution_count": null,
      "metadata": {
        "execution": {
          "iopub.execute_input": "2023-10-03T15:00:09.072222Z",
          "iopub.status.busy": "2023-10-03T15:00:09.071636Z",
          "iopub.status.idle": "2023-10-03T15:05:46.015931Z",
          "shell.execute_reply": "2023-10-03T15:05:46.015550Z"
        },
        "id": "lFZPhY8_oeMB"
      },
      "outputs": [],
      "source": [
        "results4 = representation_comparison(models[0], models[0], \"Resnet18_st_aug\", \"Resnet18_st_aug\", test_loader, test_aug_loader)\n",
        "conf_matrix(results4)"
      ]
    },
    {
      "cell_type": "code",
      "execution_count": null,
      "metadata": {
        "execution": {
          "iopub.execute_input": "2023-10-03T15:05:46.018428Z",
          "iopub.status.busy": "2023-10-03T15:05:46.017830Z",
          "iopub.status.idle": "2023-10-03T15:11:33.672082Z",
          "shell.execute_reply": "2023-10-03T15:11:33.671667Z"
        },
        "id": "1kQ3AVvzpEv-"
      },
      "outputs": [],
      "source": [
        "results5 = representation_comparison(models[1], models[1], \"Resnet18_at_aug\", \"Resnet18_at_aug\", test_loader, test_aug_loader)\n",
        "conf_matrix(results5)"
      ]
    },
    {
      "cell_type": "code",
      "execution_count": null,
      "metadata": {
        "execution": {
          "iopub.execute_input": "2023-10-03T15:11:33.718582Z",
          "iopub.status.busy": "2023-10-03T15:11:33.717805Z",
          "iopub.status.idle": "2023-10-03T15:17:11.549980Z",
          "shell.execute_reply": "2023-10-03T15:17:11.549592Z"
        },
        "id": "JrOuV5tXqw1r"
      },
      "outputs": [],
      "source": [
        "results6 = representation_comparison(models[3], models[1], \"Resnet18_at_clean\", \"Resnet18_at_aug\", test_loader, test_loader)\n",
        "conf_matrix(results6)"
      ]
    },
    {
      "cell_type": "code",
      "execution_count": null,
      "metadata": {
        "execution": {
          "iopub.execute_input": "2023-10-03T15:17:11.552535Z",
          "iopub.status.busy": "2023-10-03T15:17:11.551925Z",
          "iopub.status.idle": "2023-10-03T15:22:48.565787Z",
          "shell.execute_reply": "2023-10-03T15:22:48.565359Z"
        },
        "id": "7E3QYcu0q676"
      },
      "outputs": [],
      "source": [
        "results7 = representation_comparison(models[2], models[3], \"Resnet18_st_clean\", \"Resnet18_at_clean\", test_loader, test_loader)\n",
        "conf_matrix(results7)"
      ]
    },
    {
      "cell_type": "code",
      "execution_count": null,
      "metadata": {
        "execution": {
          "iopub.execute_input": "2023-10-03T15:22:48.568530Z",
          "iopub.status.busy": "2023-10-03T15:22:48.567908Z",
          "iopub.status.idle": "2023-10-03T15:28:27.387708Z",
          "shell.execute_reply": "2023-10-03T15:28:27.387300Z"
        },
        "id": "SQlJwZxKrY0M"
      },
      "outputs": [],
      "source": [
        "results8 = representation_comparison(models[2], models[2], \"Resnet18_st_clean\", \"Resnet18_st_clean\", test_loader, test_aug_loader)\n",
        "conf_matrix(results8)"
      ]
    },
    {
      "cell_type": "code",
      "execution_count": null,
      "metadata": {
        "execution": {
          "iopub.execute_input": "2023-10-03T15:28:27.390405Z",
          "iopub.status.busy": "2023-10-03T15:28:27.389767Z",
          "iopub.status.idle": "2023-10-03T15:34:05.412597Z",
          "shell.execute_reply": "2023-10-03T15:34:05.412182Z"
        },
        "id": "1RjRsdaKt2nR"
      },
      "outputs": [],
      "source": [
        "results9 = representation_comparison(models[3], models[3], \"Resnet18_at_clean\", \"Resnet18_at_clean\", test_loader, test_aug_loader)\n",
        "conf_matrix(results9)"
      ]
    },
    {
      "cell_type": "code",
      "execution_count": null,
      "metadata": {
        "execution": {
          "iopub.execute_input": "2023-10-03T15:34:05.415266Z",
          "iopub.status.busy": "2023-10-03T15:34:05.414657Z",
          "iopub.status.idle": "2023-10-03T15:34:05.419028Z",
          "shell.execute_reply": "2023-10-03T15:34:05.418723Z"
        },
        "id": "DY6o2ZUZMIY6"
      },
      "outputs": [],
      "source": [
        "from torch.utils.data import Dataset, DataLoader\n",
        "\n",
        "class Data(Dataset):\n",
        "  def __init__(self, model, data_loader, eps):\n",
        "    # super(Data, self).__init__()\n",
        "    self.x = []\n",
        "    self.y = []\n",
        "    for (images, labels) in tqdm(data_loader):\n",
        "          images = images.to(device)\n",
        "          labels = labels.to(device)\n",
        "          # print(\"dim of images and labels : \" + str(images.size()) + \", \" + str(labels.size()))\n",
        "          delta = pgd_linf_end2end(model.to(device), X=images, labels=labels,  epsilon=eps, alpha=0.01, num_iter=20).to(device)\n",
        "          images_adv = (images + delta)\n",
        "          # print(images_adv.size(), type(images_adv[0]))\n",
        "          for im, lbl in zip(images_adv, labels):\n",
        "            self.x.append(im.cpu().data.numpy())\n",
        "            self.y.append(lbl.cpu().data.numpy())\n",
        "\n",
        "    self.x = torch.FloatTensor(np.array(self.x)).to(device)\n",
        "    self.y = torch.tensor(np.array(self.y)).to(device)\n",
        "    self.len=self.x.size()[0]\n",
        "\n",
        "  def __getitem__(self, index):\n",
        "    return self.x[index], self.y[index]\n",
        "\n",
        "  def __len__(self):\n",
        "    return self.len\n"
      ]
    },
    {
      "cell_type": "code",
      "execution_count": null,
      "metadata": {
        "execution": {
          "iopub.execute_input": "2023-10-03T15:34:05.421289Z",
          "iopub.status.busy": "2023-10-03T15:34:05.420700Z",
          "iopub.status.idle": "2023-10-03T15:34:07.415027Z",
          "shell.execute_reply": "2023-10-03T15:34:07.414667Z"
        },
        "id": "lddTWk14UVo2",
        "colab": {
          "base_uri": "https://localhost:8080/"
        },
        "outputId": "5d224f71-8ff0-4bf9-e1e5-6924ed771629"
      },
      "outputs": [
        {
          "output_type": "stream",
          "name": "stderr",
          "text": [
            "100%|██████████| 78/78 [00:43<00:00,  1.78it/s]\n",
            "100%|██████████| 78/78 [00:43<00:00,  1.80it/s]\n",
            "100%|██████████| 78/78 [00:42<00:00,  1.81it/s]\n",
            "100%|██████████| 78/78 [00:43<00:00,  1.81it/s]\n",
            "100%|██████████| 78/78 [00:43<00:00,  1.80it/s]\n",
            "100%|██████████| 78/78 [00:43<00:00,  1.79it/s]\n"
          ]
        }
      ],
      "source": [
        "adv_dset0 = Data(models[0].to(device), test_loader, 8/255) # st_aug\n",
        "adv0_loader = torch.utils.data.DataLoader(dataset=adv_dset0, batch_size=batch_size, shuffle=True  , drop_last=True)\n",
        "\n",
        "adv_dset1 = Data(models[1].to(device), test_loader, 8/255) # at_aug\n",
        "adv1_loader = torch.utils.data.DataLoader(dataset=adv_dset1, batch_size=batch_size, shuffle=True  , drop_last=True)\n",
        "\n",
        "adv_dset2 = Data(models[2].to(device), test_loader, 8/255) # st_clean\n",
        "adv2_loader = torch.utils.data.DataLoader(dataset=adv_dset2, batch_size=batch_size, shuffle=True  , drop_last=True)\n",
        "\n",
        "adv_dset3 = Data(models[3].to(device), test_loader, 8/255) # at_clean\n",
        "adv3_loader = torch.utils.data.DataLoader(dataset=adv_dset3, batch_size=batch_size, shuffle=True  , drop_last=True)\n",
        "\n",
        "adv_dset4 = Data(models[4].to(device), test_loader, 2/255) # at_clean_w\n",
        "adv4_loader = torch.utils.data.DataLoader(dataset=adv_dset4, batch_size=batch_size, shuffle=True  , drop_last=True)\n",
        "\n",
        "adv_dset5 = Data(models[5].to(device), test_loader, 2/255) # at_aug_w\n",
        "adv5_loader = torch.utils.data.DataLoader(dataset=adv_dset5, batch_size=batch_size, shuffle=True  , drop_last=True)\n"
      ]
    },
    {
      "cell_type": "code",
      "execution_count": null,
      "metadata": {
        "execution": {
          "iopub.execute_input": "2023-10-03T15:34:07.417467Z",
          "iopub.status.busy": "2023-10-03T15:34:07.416883Z",
          "iopub.status.idle": "2023-10-03T15:34:07.428695Z",
          "shell.execute_reply": "2023-10-03T15:34:07.428401Z"
        },
        "id": "nzCk-3aNTySO"
      },
      "outputs": [],
      "source": [
        "results18 = representation_comparison(models[0], models[0], \"Resnet18_st_aug\", \"Resnet18_st_aug\", test_loader, adv0_loader)\n",
        "conf_matrix(results18)"
      ]
    },
    {
      "cell_type": "code",
      "execution_count": null,
      "metadata": {
        "execution": {
          "iopub.execute_input": "2023-10-03T15:34:07.430870Z",
          "iopub.status.busy": "2023-10-03T15:34:07.430284Z",
          "iopub.status.idle": "2023-10-03T15:34:07.441870Z",
          "shell.execute_reply": "2023-10-03T15:34:07.441578Z"
        },
        "id": "MjiAaq-iWZtw"
      },
      "outputs": [],
      "source": [
        "results19 = representation_comparison(models[1], models[1], \"Resnet18_at_aug\", \"Resnet18_at_aug\", test_loader, adv1_loader)\n",
        "conf_matrix(results19)"
      ]
    },
    {
      "cell_type": "code",
      "execution_count": null,
      "metadata": {
        "execution": {
          "iopub.execute_input": "2023-10-03T15:34:07.443996Z",
          "iopub.status.busy": "2023-10-03T15:34:07.443430Z",
          "iopub.status.idle": "2023-10-03T15:34:07.453902Z",
          "shell.execute_reply": "2023-10-03T15:34:07.453609Z"
        },
        "id": "i5b1SHAFVlgX"
      },
      "outputs": [],
      "source": [
        "results20 = representation_comparison(models[2], models[2], \"Resnet18_st_clean\", \"Resnet18_st_clean\", test_loader, adv2_loader)\n",
        "conf_matrix(results20)"
      ]
    },
    {
      "cell_type": "code",
      "execution_count": null,
      "metadata": {
        "execution": {
          "iopub.execute_input": "2023-10-03T15:34:07.456015Z",
          "iopub.status.busy": "2023-10-03T15:34:07.455453Z",
          "iopub.status.idle": "2023-10-03T15:34:07.465755Z",
          "shell.execute_reply": "2023-10-03T15:34:07.465462Z"
        },
        "id": "Dl8pEfSkW1pz"
      },
      "outputs": [],
      "source": [
        "results21 = representation_comparison(models[3], models[3], \"Resnet18_at_clean\", \"Resnet18_at_clean\", test_loader, adv3_loader)\n",
        "conf_matrix(results21)"
      ]
    },
    {
      "cell_type": "code",
      "execution_count": null,
      "metadata": {
        "execution": {
          "iopub.execute_input": "2023-10-03T15:34:07.443996Z",
          "iopub.status.busy": "2023-10-03T15:34:07.443430Z",
          "iopub.status.idle": "2023-10-03T15:34:07.453902Z",
          "shell.execute_reply": "2023-10-03T15:34:07.453609Z"
        },
        "id": "DrYbf34jvE2A"
      },
      "outputs": [],
      "source": [
        "results22 = representation_comparison(models[4], models[4], \"Resnet18_at_w_clean\", \"Resnet18_at_w_clean\", test_loader, adv4_loader)\n",
        "conf_matrix(results22)"
      ]
    },
    {
      "cell_type": "code",
      "execution_count": null,
      "metadata": {
        "execution": {
          "iopub.execute_input": "2023-10-03T15:34:07.456015Z",
          "iopub.status.busy": "2023-10-03T15:34:07.455453Z",
          "iopub.status.idle": "2023-10-03T15:34:07.465755Z",
          "shell.execute_reply": "2023-10-03T15:34:07.465462Z"
        },
        "id": "O6HbXyIKvE2J"
      },
      "outputs": [],
      "source": [
        "results23 = representation_comparison(models[5], models[5], \"Resnet18_at_w_aug\", \"Resnet18_at_w_aug\", test_loader, adv5_loader)\n",
        "conf_matrix(results23)"
      ]
    }
  ],
  "metadata": {
    "colab": {
      "provenance": [],
      "gpuType": "T4"
    },
    "kernelspec": {
      "display_name": "Python 3",
      "name": "python3"
    },
    "language_info": {
      "codemirror_mode": {
        "name": "ipython",
        "version": 3
      },
      "file_extension": ".py",
      "mimetype": "text/x-python",
      "name": "python",
      "nbconvert_exporter": "python",
      "pygments_lexer": "ipython3",
      "version": "3.11.3"
    },
    "accelerator": "GPU"
  },
  "nbformat": 4,
  "nbformat_minor": 0
}