{
  "cells": [
    {
      "cell_type": "code",
      "execution_count": 1,
      "metadata": {
        "colab": {
          "base_uri": "https://localhost:8080/"
        },
        "execution": {
          "iopub.execute_input": "2023-10-03T08:11:24.133797Z",
          "iopub.status.busy": "2023-10-03T08:11:24.133105Z",
          "iopub.status.idle": "2023-10-03T08:11:28.861795Z",
          "shell.execute_reply": "2023-10-03T08:11:28.860370Z"
        },
        "id": "fYXal7Ua1MSR",
        "outputId": "2406cee0-fa8a-44a3-e6ca-8f1e07bbeef5"
      },
      "outputs": [
        {
          "output_type": "stream",
          "name": "stdout",
          "text": [
            "Cloning into 'bayesian-torch'...\n",
            "remote: Enumerating objects: 722, done.\u001b[K\n",
            "remote: Counting objects: 100% (457/457), done.\u001b[K\n",
            "remote: Compressing objects: 100% (217/217), done.\u001b[K\n",
            "remote: Total 722 (delta 300), reused 369 (delta 240), pack-reused 265\u001b[K\n",
            "Receiving objects: 100% (722/722), 277.08 KiB | 3.15 MiB/s, done.\n",
            "Resolving deltas: 100% (457/457), done.\n",
            "Processing ./bayesian-torch\n",
            "  Preparing metadata (setup.py) ... \u001b[?25l\u001b[?25hdone\n",
            "Requirement already satisfied: torch>=1.7.0 in /usr/local/lib/python3.10/dist-packages (from bayesian-torch==0.4.0) (2.1.0+cu118)\n",
            "Requirement already satisfied: torchvision>=0.8.1 in /usr/local/lib/python3.10/dist-packages (from bayesian-torch==0.4.0) (0.16.0+cu118)\n",
            "Requirement already satisfied: tensorboard>=1.15.0 in /usr/local/lib/python3.10/dist-packages (from bayesian-torch==0.4.0) (2.12.0)\n",
            "Requirement already satisfied: scikit-learn>=0.20.3 in /usr/local/lib/python3.10/dist-packages (from bayesian-torch==0.4.0) (1.2.2)\n",
            "Requirement already satisfied: numpy>=1.17.3 in /usr/local/lib/python3.10/dist-packages (from scikit-learn>=0.20.3->bayesian-torch==0.4.0) (1.23.5)\n",
            "Requirement already satisfied: scipy>=1.3.2 in /usr/local/lib/python3.10/dist-packages (from scikit-learn>=0.20.3->bayesian-torch==0.4.0) (1.11.3)\n",
            "Requirement already satisfied: joblib>=1.1.1 in /usr/local/lib/python3.10/dist-packages (from scikit-learn>=0.20.3->bayesian-torch==0.4.0) (1.3.2)\n",
            "Requirement already satisfied: threadpoolctl>=2.0.0 in /usr/local/lib/python3.10/dist-packages (from scikit-learn>=0.20.3->bayesian-torch==0.4.0) (3.2.0)\n",
            "Requirement already satisfied: absl-py>=0.4 in /usr/local/lib/python3.10/dist-packages (from tensorboard>=1.15.0->bayesian-torch==0.4.0) (1.4.0)\n",
            "Requirement already satisfied: grpcio>=1.48.2 in /usr/local/lib/python3.10/dist-packages (from tensorboard>=1.15.0->bayesian-torch==0.4.0) (1.59.0)\n",
            "Requirement already satisfied: google-auth<3,>=1.6.3 in /usr/local/lib/python3.10/dist-packages (from tensorboard>=1.15.0->bayesian-torch==0.4.0) (2.17.3)\n",
            "Requirement already satisfied: google-auth-oauthlib<0.5,>=0.4.1 in /usr/local/lib/python3.10/dist-packages (from tensorboard>=1.15.0->bayesian-torch==0.4.0) (0.4.6)\n",
            "Requirement already satisfied: markdown>=2.6.8 in /usr/local/lib/python3.10/dist-packages (from tensorboard>=1.15.0->bayesian-torch==0.4.0) (3.5)\n",
            "Requirement already satisfied: protobuf>=3.19.6 in /usr/local/lib/python3.10/dist-packages (from tensorboard>=1.15.0->bayesian-torch==0.4.0) (3.20.3)\n",
            "Requirement already satisfied: requests<3,>=2.21.0 in /usr/local/lib/python3.10/dist-packages (from tensorboard>=1.15.0->bayesian-torch==0.4.0) (2.31.0)\n",
            "Requirement already satisfied: setuptools>=41.0.0 in /usr/local/lib/python3.10/dist-packages (from tensorboard>=1.15.0->bayesian-torch==0.4.0) (67.7.2)\n",
            "Requirement already satisfied: tensorboard-data-server<0.8.0,>=0.7.0 in /usr/local/lib/python3.10/dist-packages (from tensorboard>=1.15.0->bayesian-torch==0.4.0) (0.7.2)\n",
            "Requirement already satisfied: tensorboard-plugin-wit>=1.6.0 in /usr/local/lib/python3.10/dist-packages (from tensorboard>=1.15.0->bayesian-torch==0.4.0) (1.8.1)\n",
            "Requirement already satisfied: werkzeug>=1.0.1 in /usr/local/lib/python3.10/dist-packages (from tensorboard>=1.15.0->bayesian-torch==0.4.0) (3.0.1)\n",
            "Requirement already satisfied: wheel>=0.26 in /usr/local/lib/python3.10/dist-packages (from tensorboard>=1.15.0->bayesian-torch==0.4.0) (0.41.2)\n",
            "Requirement already satisfied: filelock in /usr/local/lib/python3.10/dist-packages (from torch>=1.7.0->bayesian-torch==0.4.0) (3.12.4)\n",
            "Requirement already satisfied: typing-extensions in /usr/local/lib/python3.10/dist-packages (from torch>=1.7.0->bayesian-torch==0.4.0) (4.5.0)\n",
            "Requirement already satisfied: sympy in /usr/local/lib/python3.10/dist-packages (from torch>=1.7.0->bayesian-torch==0.4.0) (1.12)\n",
            "Requirement already satisfied: networkx in /usr/local/lib/python3.10/dist-packages (from torch>=1.7.0->bayesian-torch==0.4.0) (3.2)\n",
            "Requirement already satisfied: jinja2 in /usr/local/lib/python3.10/dist-packages (from torch>=1.7.0->bayesian-torch==0.4.0) (3.1.2)\n",
            "Requirement already satisfied: fsspec in /usr/local/lib/python3.10/dist-packages (from torch>=1.7.0->bayesian-torch==0.4.0) (2023.6.0)\n",
            "Requirement already satisfied: triton==2.1.0 in /usr/local/lib/python3.10/dist-packages (from torch>=1.7.0->bayesian-torch==0.4.0) (2.1.0)\n",
            "Requirement already satisfied: pillow!=8.3.*,>=5.3.0 in /usr/local/lib/python3.10/dist-packages (from torchvision>=0.8.1->bayesian-torch==0.4.0) (9.4.0)\n",
            "Requirement already satisfied: cachetools<6.0,>=2.0.0 in /usr/local/lib/python3.10/dist-packages (from google-auth<3,>=1.6.3->tensorboard>=1.15.0->bayesian-torch==0.4.0) (5.3.2)\n",
            "Requirement already satisfied: pyasn1-modules>=0.2.1 in /usr/local/lib/python3.10/dist-packages (from google-auth<3,>=1.6.3->tensorboard>=1.15.0->bayesian-torch==0.4.0) (0.3.0)\n",
            "Requirement already satisfied: six>=1.9.0 in /usr/local/lib/python3.10/dist-packages (from google-auth<3,>=1.6.3->tensorboard>=1.15.0->bayesian-torch==0.4.0) (1.16.0)\n",
            "Requirement already satisfied: rsa<5,>=3.1.4 in /usr/local/lib/python3.10/dist-packages (from google-auth<3,>=1.6.3->tensorboard>=1.15.0->bayesian-torch==0.4.0) (4.9)\n",
            "Requirement already satisfied: requests-oauthlib>=0.7.0 in /usr/local/lib/python3.10/dist-packages (from google-auth-oauthlib<0.5,>=0.4.1->tensorboard>=1.15.0->bayesian-torch==0.4.0) (1.3.1)\n",
            "Requirement already satisfied: charset-normalizer<4,>=2 in /usr/local/lib/python3.10/dist-packages (from requests<3,>=2.21.0->tensorboard>=1.15.0->bayesian-torch==0.4.0) (3.3.1)\n",
            "Requirement already satisfied: idna<4,>=2.5 in /usr/local/lib/python3.10/dist-packages (from requests<3,>=2.21.0->tensorboard>=1.15.0->bayesian-torch==0.4.0) (3.4)\n",
            "Requirement already satisfied: urllib3<3,>=1.21.1 in /usr/local/lib/python3.10/dist-packages (from requests<3,>=2.21.0->tensorboard>=1.15.0->bayesian-torch==0.4.0) (2.0.7)\n",
            "Requirement already satisfied: certifi>=2017.4.17 in /usr/local/lib/python3.10/dist-packages (from requests<3,>=2.21.0->tensorboard>=1.15.0->bayesian-torch==0.4.0) (2023.7.22)\n",
            "Requirement already satisfied: MarkupSafe>=2.1.1 in /usr/local/lib/python3.10/dist-packages (from werkzeug>=1.0.1->tensorboard>=1.15.0->bayesian-torch==0.4.0) (2.1.3)\n",
            "Requirement already satisfied: mpmath>=0.19 in /usr/local/lib/python3.10/dist-packages (from sympy->torch>=1.7.0->bayesian-torch==0.4.0) (1.3.0)\n",
            "Requirement already satisfied: pyasn1<0.6.0,>=0.4.6 in /usr/local/lib/python3.10/dist-packages (from pyasn1-modules>=0.2.1->google-auth<3,>=1.6.3->tensorboard>=1.15.0->bayesian-torch==0.4.0) (0.5.0)\n",
            "Requirement already satisfied: oauthlib>=3.0.0 in /usr/local/lib/python3.10/dist-packages (from requests-oauthlib>=0.7.0->google-auth-oauthlib<0.5,>=0.4.1->tensorboard>=1.15.0->bayesian-torch==0.4.0) (3.2.2)\n",
            "Building wheels for collected packages: bayesian-torch\n",
            "  Building wheel for bayesian-torch (setup.py) ... \u001b[?25l\u001b[?25hdone\n",
            "  Created wheel for bayesian-torch: filename=bayesian_torch-0.4.0-py3-none-any.whl size=77122 sha256=af83e43297e5913ad7714190c57622fb8ec59449a93c9601d838a073c1d0d623\n",
            "  Stored in directory: /root/.cache/pip/wheels/c4/64/36/327a5aa82508f440c69defc36b554b49f41c2b5780c95fb461\n",
            "Successfully built bayesian-torch\n",
            "Installing collected packages: bayesian-torch\n",
            "Successfully installed bayesian-torch-0.4.0\n"
          ]
        }
      ],
      "source": [
        "!git clone https://github.com/IntelLabs/bayesian-torch\n",
        "!pip install bayesian-torch/."
      ]
    },
    {
      "cell_type": "code",
      "execution_count": 2,
      "metadata": {
        "colab": {
          "base_uri": "https://localhost:8080/"
        },
        "execution": {
          "iopub.execute_input": "2023-10-03T08:11:28.868930Z",
          "iopub.status.busy": "2023-10-03T08:11:28.868444Z",
          "iopub.status.idle": "2023-10-03T08:11:31.346183Z",
          "shell.execute_reply": "2023-10-03T08:11:31.345807Z"
        },
        "id": "cYdR5vHSpG-_",
        "outputId": "591a84b6-fa8c-41c9-df9a-c762714db78c"
      },
      "outputs": [
        {
          "output_type": "execute_result",
          "data": {
            "text/plain": [
              "<torch._C.Generator at 0x7a587a30ded0>"
            ]
          },
          "metadata": {},
          "execution_count": 2
        }
      ],
      "source": [
        "import torch\n",
        "import torchvision\n",
        "import torch.nn as nn\n",
        "import torch.optim as optim\n",
        "import torch.nn.functional as f\n",
        "import torchvision.datasets as datasets\n",
        "import torchvision.transforms as transforms\n",
        "from torchvision.transforms.autoaugment import AutoAugmentPolicy\n",
        "from bayesian_torch.models.dnn_to_bnn import dnn_to_bnn, get_kl_loss\n",
        "\n",
        "\n",
        "\n",
        "import PIL\n",
        "import math\n",
        "import random\n",
        "import numpy as np\n",
        "from tqdm import tqdm\n",
        "import matplotlib.pyplot as plt\n",
        "\n",
        "torch.manual_seed(110)\n"
      ]
    },
    {
      "cell_type": "code",
      "execution_count": 3,
      "metadata": {
        "execution": {
          "iopub.execute_input": "2023-10-03T08:11:31.349117Z",
          "iopub.status.busy": "2023-10-03T08:11:31.348365Z",
          "iopub.status.idle": "2023-10-03T08:11:31.395444Z",
          "shell.execute_reply": "2023-10-03T08:11:31.395047Z"
        },
        "id": "-DeNa5b0cZE3"
      },
      "outputs": [],
      "source": [
        "# Check Device configuration\n",
        "device = torch.device('cuda' if torch.cuda.is_available() else 'cpu')\n",
        "\n",
        "# Define Hyper-parameters\n",
        "num_monte_carlo = 20\n",
        "num_epochs = 100\n",
        "batch_size = 128\n",
        "learning_rate = 0.001\n"
      ]
    },
    {
      "cell_type": "code",
      "execution_count": 4,
      "metadata": {
        "execution": {
          "iopub.execute_input": "2023-10-03T08:11:31.397825Z",
          "iopub.status.busy": "2023-10-03T08:11:31.397669Z",
          "iopub.status.idle": "2023-10-03T08:11:31.550295Z",
          "shell.execute_reply": "2023-10-03T08:11:31.549893Z"
        },
        "id": "1kZqxgPib8gi",
        "colab": {
          "base_uri": "https://localhost:8080/"
        },
        "outputId": "aee92a5e-710e-4710-8fb0-aa7e766876e5"
      },
      "outputs": [
        {
          "output_type": "stream",
          "name": "stdout",
          "text": [
            "Downloading http://yann.lecun.com/exdb/mnist/train-images-idx3-ubyte.gz\n",
            "Downloading http://yann.lecun.com/exdb/mnist/train-images-idx3-ubyte.gz to ./data/MNIST/raw/train-images-idx3-ubyte.gz\n"
          ]
        },
        {
          "output_type": "stream",
          "name": "stderr",
          "text": [
            "100%|██████████| 9912422/9912422 [00:00<00:00, 33025795.22it/s]\n"
          ]
        },
        {
          "output_type": "stream",
          "name": "stdout",
          "text": [
            "Extracting ./data/MNIST/raw/train-images-idx3-ubyte.gz to ./data/MNIST/raw\n",
            "\n",
            "Downloading http://yann.lecun.com/exdb/mnist/train-labels-idx1-ubyte.gz\n",
            "Downloading http://yann.lecun.com/exdb/mnist/train-labels-idx1-ubyte.gz to ./data/MNIST/raw/train-labels-idx1-ubyte.gz\n"
          ]
        },
        {
          "output_type": "stream",
          "name": "stderr",
          "text": [
            "100%|██████████| 28881/28881 [00:00<00:00, 32774808.94it/s]\n"
          ]
        },
        {
          "output_type": "stream",
          "name": "stdout",
          "text": [
            "Extracting ./data/MNIST/raw/train-labels-idx1-ubyte.gz to ./data/MNIST/raw\n",
            "\n",
            "Downloading http://yann.lecun.com/exdb/mnist/t10k-images-idx3-ubyte.gz\n",
            "Downloading http://yann.lecun.com/exdb/mnist/t10k-images-idx3-ubyte.gz to ./data/MNIST/raw/t10k-images-idx3-ubyte.gz\n"
          ]
        },
        {
          "output_type": "stream",
          "name": "stderr",
          "text": [
            "100%|██████████| 1648877/1648877 [00:00<00:00, 28251536.57it/s]\n"
          ]
        },
        {
          "output_type": "stream",
          "name": "stdout",
          "text": [
            "Extracting ./data/MNIST/raw/t10k-images-idx3-ubyte.gz to ./data/MNIST/raw\n",
            "\n",
            "Downloading http://yann.lecun.com/exdb/mnist/t10k-labels-idx1-ubyte.gz\n",
            "Downloading http://yann.lecun.com/exdb/mnist/t10k-labels-idx1-ubyte.gz to ./data/MNIST/raw/t10k-labels-idx1-ubyte.gz\n"
          ]
        },
        {
          "output_type": "stream",
          "name": "stderr",
          "text": [
            "100%|██████████| 4542/4542 [00:00<00:00, 5342268.30it/s]\n"
          ]
        },
        {
          "output_type": "stream",
          "name": "stdout",
          "text": [
            "Extracting ./data/MNIST/raw/t10k-labels-idx1-ubyte.gz to ./data/MNIST/raw\n",
            "\n"
          ]
        }
      ],
      "source": [
        "simple_trafos = torchvision.transforms.Compose([\n",
        "    torchvision.transforms.Grayscale(num_output_channels=3),\n",
        "    torchvision.transforms.ToTensor(),\n",
        "    torchvision.transforms.Normalize((0.1307,0.1307,0.1307), (0.3081,0.3081,0.3081,))\n",
        "])\n",
        "\n",
        "aug_trafos = torchvision.transforms.Compose([\n",
        "    torchvision.transforms.Grayscale(num_output_channels=3),\n",
        "    torchvision.transforms.Pad(4),\n",
        "    torchvision.transforms.RandomCrop(28),\n",
        "    torchvision.transforms.RandomAffine(degrees=20, translate=(0.1,0.1), scale=(0.9, 1.1)),\n",
        "    torchvision.transforms.ColorJitter(brightness=0.2, contrast=0.2),\n",
        "    torchvision.transforms.ToTensor(),\n",
        "    torchvision.transforms.Normalize((0.1307,0.1307,0.1307), (0.3081,0.3081,0.3081,))\n",
        "])\n",
        "\n",
        "# MNIST dataset\n",
        "train_dataset = torchvision.datasets.MNIST(root='./data/',\n",
        "                                           train=True,\n",
        "                                           transform=simple_trafos,\n",
        "                                           download=True)\n",
        "\n",
        "train_aug_dataset = torchvision.datasets.MNIST(root='./data/',\n",
        "                                           train=True,\n",
        "                                           transform=aug_trafos,\n",
        "                                           download=True)\n",
        "\n",
        "test_dataset = torchvision.datasets.MNIST(root='./data/',\n",
        "                                          train=False,\n",
        "                                          transform=simple_trafos)\n",
        "\n",
        "test_aug_dataset = torchvision.datasets.MNIST(root='./data/',\n",
        "                                          train=False,\n",
        "                                          transform=aug_trafos)\n",
        "\n",
        "# Data loader\n",
        "train_loader = torch.utils.data.DataLoader(dataset=train_dataset,\n",
        "                                           batch_size=batch_size,\n",
        "                                           shuffle=True)\n",
        "\n",
        "train_aug_loader = torch.utils.data.DataLoader(dataset=train_aug_dataset,\n",
        "                                           batch_size=batch_size,\n",
        "                                           shuffle=True)\n",
        "\n",
        "test_loader = torch.utils.data.DataLoader(dataset=test_dataset,\n",
        "                                          batch_size=batch_size,\n",
        "                                          shuffle=False)\n",
        "\n",
        "test_aug_loader = torch.utils.data.DataLoader(dataset=test_aug_dataset,\n",
        "                                          batch_size=batch_size,\n",
        "                                          shuffle=False)"
      ]
    },
    {
      "cell_type": "code",
      "execution_count": 5,
      "metadata": {
        "colab": {
          "base_uri": "https://localhost:8080/",
          "height": 380
        },
        "execution": {
          "iopub.execute_input": "2023-10-03T08:11:31.553463Z",
          "iopub.status.busy": "2023-10-03T08:11:31.552721Z",
          "iopub.status.idle": "2023-10-03T08:11:32.489303Z",
          "shell.execute_reply": "2023-10-03T08:11:32.488901Z"
        },
        "id": "4gaq48PXWxA6",
        "outputId": "2c9f2bdd-2a8b-4e8f-ed3e-a266c4e73f87"
      },
      "outputs": [
        {
          "output_type": "display_data",
          "data": {
            "text/plain": [
              "<Figure size 750x400 with 10 Axes>"
            ],
            "image/png": "[encoded data removed]"
          },
          "metadata": {}
        }
      ],
      "source": [
        "def plot_set_images(n_row, n_col, images, labels, label_text=\"Label: \"):\n",
        "  num=len(images)\n",
        "  num_row=n_row\n",
        "  num_col=n_col\n",
        "  fig, axes = plt.subplots(num_row, num_col, figsize=(1.5*num_col,2*num_row))\n",
        "  for i in range(num):\n",
        "      ax = axes[i//num_col, i%num_col]\n",
        "      ax.imshow(images[i][0], cmap='gray_r')\n",
        "      ax.set_title('{}{}'.format(label_text, labels[i]))\n",
        "  plt.tight_layout()\n",
        "  plt.show()\n",
        "\n",
        "images_set = []\n",
        "labels_set = []\n",
        "j=0\n",
        "for i in range(10):\n",
        "  while i != train_dataset[j][1]:\n",
        "    j += 1\n",
        "  images_set.append(train_aug_dataset[j][0])\n",
        "  labels_set.append(train_aug_dataset[j][1])\n",
        "plot_set_images(2, 5, images_set, labels_set, \"Label: \")"
      ]
    },
    {
      "cell_type": "code",
      "execution_count": 6,
      "metadata": {
        "execution": {
          "iopub.execute_input": "2023-10-03T08:11:32.492222Z",
          "iopub.status.busy": "2023-10-03T08:11:32.491526Z",
          "iopub.status.idle": "2023-10-03T08:11:32.494888Z",
          "shell.execute_reply": "2023-10-03T08:11:32.494576Z"
        },
        "id": "cg30QbDK1GxS"
      },
      "outputs": [],
      "source": [
        "const_bnn_prior_parameters = {\n",
        "        \"prior_mu\": 0.0,\n",
        "        \"prior_sigma\": 1.0,\n",
        "        \"posterior_mu_init\": 0.0,\n",
        "        \"posterior_rho_init\": -3.0,\n",
        "        \"type\": \"Reparameterization\",  # Flipout or Reparameterization\n",
        "        \"moped_enable\": False,  # True to initialize mu/sigma from the pretrained dnn weights\n",
        "        \"moped_delta\": 0.5,\n",
        "}\n",
        "\n",
        "# model = torchvision.models.resnet18(pretrained=True)\n",
        "# dnn_to_bnn(model, const_bnn_prior_parameters)"
      ]
    },
    {
      "cell_type": "code",
      "execution_count": 7,
      "metadata": {
        "execution": {
          "iopub.execute_input": "2023-10-03T08:11:32.497399Z",
          "iopub.status.busy": "2023-10-03T08:11:32.496732Z",
          "iopub.status.idle": "2023-10-03T08:11:32.500747Z",
          "shell.execute_reply": "2023-10-03T08:11:32.500431Z"
        },
        "id": "EcDNI-mtJbIg"
      },
      "outputs": [],
      "source": [
        "from bayesian_torch.utils.util import predictive_entropy, mutual_information\n",
        "def test(model, test_loader):\n",
        "  total_acc_test=0\n",
        "  model.eval()\n",
        "  with torch.no_grad():\n",
        "      for i, (X, labels) in enumerate(test_loader):\n",
        "          X = X.to(device)\n",
        "          labels = labels.to(device)\n",
        "          output_mc = []\n",
        "          for mc_run in range(num_monte_carlo):\n",
        "                logits = model(X)\n",
        "                probs = torch.nn.functional.softmax(logits, dim=-1)\n",
        "                output_mc.append(probs)\n",
        "          output = torch.stack(output_mc)\n",
        "          pred_mean = output.mean(dim=0)\n",
        "          y_pred = torch.argmax(pred_mean, axis=-1)\n",
        "          total_acc_test += (y_pred.data.cpu().numpy() == labels.data.cpu().numpy()).sum()\n",
        "\n",
        "  print('Acc_Test =', total_acc_test / len(test_loader.dataset),sep=\"\\t\")\n",
        "  return total_acc_test / len(test_loader.dataset)\n",
        "\n",
        "\n",
        "# model = torchvision.models.resnet18(pretrained=False).to(device)\n",
        "# model.fc = nn.Linear(model.fc.in_features, 10)\n",
        "# dnn_to_bnn(model, const_bnn_prior_parameters)\n",
        "\n",
        "# test(model.to(device), test_loader)\n",
        "\n"
      ]
    },
    {
      "cell_type": "code",
      "execution_count": 8,
      "metadata": {
        "execution": {
          "iopub.execute_input": "2023-10-03T08:11:32.503327Z",
          "iopub.status.busy": "2023-10-03T08:11:32.502589Z",
          "iopub.status.idle": "2023-10-03T08:11:32.507614Z",
          "shell.execute_reply": "2023-10-03T08:11:32.507301Z"
        },
        "id": "0VuAWXdX2Igq"
      },
      "outputs": [],
      "source": [
        "def train(model, train_loader, learning_rate, T1=1, T2=1):\n",
        "  criterion = torch.nn.CrossEntropyLoss()\n",
        "  model.train()\n",
        "  learning_rate = 0.01\n",
        "\n",
        "  for epoch in range(num_epochs):\n",
        "    if epoch >= 0 and epoch < 30:\n",
        "                learning_rate = 0.01\n",
        "    elif epoch >= 30 :\n",
        "                learning_rate = 0.001\n",
        "\n",
        "\n",
        "    optimizer = torch.optim.Adam(model.parameters(), lr=learning_rate)\n",
        "\n",
        "    losses = []\n",
        "    for i, (images, labels) in (enumerate(train_loader)):\n",
        "        images = images.to(device)\n",
        "        labels = labels.to(device)\n",
        "        outputs =  model(images).to(device)\n",
        "        loss1 = criterion(outputs, labels).to(device)\n",
        "        kl = get_kl_loss(model).to(device)\n",
        "\n",
        "        loss = ((loss1**(1./T1)) + ((kl / batch_size)**T2)).to(device)\n",
        "        # print(loss.item())\n",
        "        losses.append(loss.item())\n",
        "\n",
        "        # Backward and optimize\n",
        "        optimizer.zero_grad()\n",
        "        loss.backward()\n",
        "        optimizer.step()\n",
        "\n",
        "    if epoch%5==0:\n",
        "      print('epoch : ' + str(epoch) +' -->  loss_Train = ' + str(np.array(losses).mean()))\n",
        "      test(model, test_loader)\n",
        "      test(model, test_aug_loader)\n",
        "      model.train()\n",
        "      print()\n",
        "\n",
        "  return model\n"
      ]
    },
    {
      "cell_type": "code",
      "execution_count": 9,
      "metadata": {
        "colab": {
          "base_uri": "https://localhost:8080/",
          "height": 497
        },
        "execution": {
          "iopub.execute_input": "2023-10-03T08:11:32.510123Z",
          "iopub.status.busy": "2023-10-03T08:11:32.509458Z",
          "iopub.status.idle": "2023-10-03T10:48:29.157934Z",
          "shell.execute_reply": "2023-10-03T10:48:29.138197Z"
        },
        "id": "G5TbSu7kZNTC",
        "outputId": "c1c4afe4-31c6-4f98-e42c-a32f9e69906c"
      },
      "outputs": [
        {
          "output_type": "stream",
          "name": "stdout",
          "text": [
            "T=1 and train dataset is clean:\n"
          ]
        },
        {
          "output_type": "stream",
          "name": "stderr",
          "text": [
            "/usr/local/lib/python3.10/dist-packages/torchvision/models/_utils.py:208: UserWarning: The parameter 'pretrained' is deprecated since 0.13 and may be removed in the future, please use 'weights' instead.\n",
            "  warnings.warn(\n",
            "/usr/local/lib/python3.10/dist-packages/torchvision/models/_utils.py:223: UserWarning: Arguments other than a weight enum or `None` for 'weights' are deprecated since 0.13 and may be removed in the future. The current behavior is equivalent to passing `weights=None`.\n",
            "  warnings.warn(msg)\n"
          ]
        },
        {
          "output_type": "error",
          "ename": "KeyboardInterrupt",
          "evalue": "ignored",
          "traceback": [
            "\u001b[0;31m---------------------------------------------------------------------------\u001b[0m",
            "\u001b[0;31mKeyboardInterrupt\u001b[0m                         Traceback (most recent call last)",
            "\u001b[0;32m<ipython-input-9-77a5da0f0616>\u001b[0m in \u001b[0;36m<cell line: 12>\u001b[0;34m()\u001b[0m\n\u001b[1;32m     10\u001b[0m \u001b[0mmodel\u001b[0m\u001b[0;34m.\u001b[0m\u001b[0mfc\u001b[0m \u001b[0;34m=\u001b[0m \u001b[0mnn\u001b[0m\u001b[0;34m.\u001b[0m\u001b[0mLinear\u001b[0m\u001b[0;34m(\u001b[0m\u001b[0mmodel\u001b[0m\u001b[0;34m.\u001b[0m\u001b[0mfc\u001b[0m\u001b[0;34m.\u001b[0m\u001b[0min_features\u001b[0m\u001b[0;34m,\u001b[0m \u001b[0;36m10\u001b[0m\u001b[0;34m)\u001b[0m\u001b[0;34m\u001b[0m\u001b[0;34m\u001b[0m\u001b[0m\n\u001b[1;32m     11\u001b[0m \u001b[0mdnn_to_bnn\u001b[0m\u001b[0;34m(\u001b[0m\u001b[0mmodel\u001b[0m\u001b[0;34m,\u001b[0m \u001b[0mconst_bnn_prior_parameters\u001b[0m\u001b[0;34m)\u001b[0m\u001b[0;34m\u001b[0m\u001b[0;34m\u001b[0m\u001b[0m\n\u001b[0;32m---> 12\u001b[0;31m \u001b[0mmod\u001b[0m \u001b[0;34m=\u001b[0m \u001b[0mtrain\u001b[0m\u001b[0;34m(\u001b[0m\u001b[0mmodel\u001b[0m\u001b[0;34m.\u001b[0m\u001b[0mto\u001b[0m\u001b[0;34m(\u001b[0m\u001b[0mdevice\u001b[0m\u001b[0;34m)\u001b[0m\u001b[0;34m,\u001b[0m \u001b[0mtrain_loader\u001b[0m\u001b[0;34m,\u001b[0m \u001b[0mlearning_rate\u001b[0m\u001b[0;34m,\u001b[0m \u001b[0mT1\u001b[0m\u001b[0;34m=\u001b[0m\u001b[0;36m1\u001b[0m\u001b[0;34m,\u001b[0m \u001b[0mT2\u001b[0m\u001b[0;34m=\u001b[0m\u001b[0;36m1\u001b[0m\u001b[0;34m)\u001b[0m\u001b[0;34m\u001b[0m\u001b[0;34m\u001b[0m\u001b[0m\n\u001b[0m\u001b[1;32m     13\u001b[0m \u001b[0;34m\u001b[0m\u001b[0m\n\u001b[1;32m     14\u001b[0m \u001b[0mprint\u001b[0m\u001b[0;34m(\u001b[0m\u001b[0;34m)\u001b[0m\u001b[0;34m\u001b[0m\u001b[0;34m\u001b[0m\u001b[0m\n",
            "\u001b[0;32m<ipython-input-8-becb4e0fa494>\u001b[0m in \u001b[0;36mtrain\u001b[0;34m(model, train_loader, learning_rate, T1, T2)\u001b[0m\n\u001b[1;32m     27\u001b[0m         \u001b[0;31m# Backward and optimize\u001b[0m\u001b[0;34m\u001b[0m\u001b[0;34m\u001b[0m\u001b[0m\n\u001b[1;32m     28\u001b[0m         \u001b[0moptimizer\u001b[0m\u001b[0;34m.\u001b[0m\u001b[0mzero_grad\u001b[0m\u001b[0;34m(\u001b[0m\u001b[0;34m)\u001b[0m\u001b[0;34m\u001b[0m\u001b[0;34m\u001b[0m\u001b[0m\n\u001b[0;32m---> 29\u001b[0;31m         \u001b[0mloss\u001b[0m\u001b[0;34m.\u001b[0m\u001b[0mbackward\u001b[0m\u001b[0;34m(\u001b[0m\u001b[0;34m)\u001b[0m\u001b[0;34m\u001b[0m\u001b[0;34m\u001b[0m\u001b[0m\n\u001b[0m\u001b[1;32m     30\u001b[0m         \u001b[0moptimizer\u001b[0m\u001b[0;34m.\u001b[0m\u001b[0mstep\u001b[0m\u001b[0;34m(\u001b[0m\u001b[0;34m)\u001b[0m\u001b[0;34m\u001b[0m\u001b[0;34m\u001b[0m\u001b[0m\n\u001b[1;32m     31\u001b[0m \u001b[0;34m\u001b[0m\u001b[0m\n",
            "\u001b[0;32m/usr/local/lib/python3.10/dist-packages/torch/_tensor.py\u001b[0m in \u001b[0;36mbackward\u001b[0;34m(self, gradient, retain_graph, create_graph, inputs)\u001b[0m\n\u001b[1;32m    490\u001b[0m                 \u001b[0minputs\u001b[0m\u001b[0;34m=\u001b[0m\u001b[0minputs\u001b[0m\u001b[0;34m,\u001b[0m\u001b[0;34m\u001b[0m\u001b[0;34m\u001b[0m\u001b[0m\n\u001b[1;32m    491\u001b[0m             )\n\u001b[0;32m--> 492\u001b[0;31m         torch.autograd.backward(\n\u001b[0m\u001b[1;32m    493\u001b[0m             \u001b[0mself\u001b[0m\u001b[0;34m,\u001b[0m \u001b[0mgradient\u001b[0m\u001b[0;34m,\u001b[0m \u001b[0mretain_graph\u001b[0m\u001b[0;34m,\u001b[0m \u001b[0mcreate_graph\u001b[0m\u001b[0;34m,\u001b[0m \u001b[0minputs\u001b[0m\u001b[0;34m=\u001b[0m\u001b[0minputs\u001b[0m\u001b[0;34m\u001b[0m\u001b[0;34m\u001b[0m\u001b[0m\n\u001b[1;32m    494\u001b[0m         )\n",
            "\u001b[0;32m/usr/local/lib/python3.10/dist-packages/torch/autograd/__init__.py\u001b[0m in \u001b[0;36mbackward\u001b[0;34m(tensors, grad_tensors, retain_graph, create_graph, grad_variables, inputs)\u001b[0m\n\u001b[1;32m    249\u001b[0m     \u001b[0;31m# some Python versions print out the first line of a multi-line function\u001b[0m\u001b[0;34m\u001b[0m\u001b[0;34m\u001b[0m\u001b[0m\n\u001b[1;32m    250\u001b[0m     \u001b[0;31m# calls in the traceback and some print out the last line\u001b[0m\u001b[0;34m\u001b[0m\u001b[0;34m\u001b[0m\u001b[0m\n\u001b[0;32m--> 251\u001b[0;31m     Variable._execution_engine.run_backward(  # Calls into the C++ engine to run the backward pass\n\u001b[0m\u001b[1;32m    252\u001b[0m         \u001b[0mtensors\u001b[0m\u001b[0;34m,\u001b[0m\u001b[0;34m\u001b[0m\u001b[0;34m\u001b[0m\u001b[0m\n\u001b[1;32m    253\u001b[0m         \u001b[0mgrad_tensors_\u001b[0m\u001b[0;34m,\u001b[0m\u001b[0;34m\u001b[0m\u001b[0;34m\u001b[0m\u001b[0m\n",
            "\u001b[0;31mKeyboardInterrupt\u001b[0m: "
          ]
        }
      ],
      "source": [
        "T1 = [0.1, 0.2, 0.3, 0.4, 0.5]\n",
        "\n",
        "print(\"T=1 and train dataset is clean:\")\n",
        "idx=0\n",
        "model = torchvision.models.resnet18(pretrained=False).to(device)\n",
        "model.fc = nn.Linear(model.fc.in_features, 10)\n",
        "dnn_to_bnn(model, const_bnn_prior_parameters)\n",
        "mod = train(model.to(device), train_loader, learning_rate, T1=1, T2=1)\n",
        "\n",
        "print()\n",
        "print()\n",
        "\n",
        "print(\"train dataset is augmented:\")\n",
        "for t1 in T1 :\n",
        "    print(\"\")\n",
        "    print(\"T = \" + str(t1))\n",
        "    model = torchvision.models.resnet18(pretrained=False).to(device)\n",
        "    model.fc = nn.Linear(model.fc.in_features, 10)\n",
        "    dnn_to_bnn(model, const_bnn_prior_parameters)\n",
        "    mod = train(model.to(device), train_aug_loader, learning_rate, T1=t1, T2=1)\n",
        "    print(\"-----------------------------------------------------------------------------------\")\n"
      ]
    }
  ],
  "metadata": {
    "accelerator": "TPU",
    "colab": {
      "provenance": []
    },
    "kernelspec": {
      "display_name": "Python 3",
      "name": "python3"
    },
    "language_info": {
      "codemirror_mode": {
        "name": "ipython",
        "version": 3
      },
      "file_extension": ".py",
      "mimetype": "text/x-python",
      "name": "python",
      "nbconvert_exporter": "python",
      "pygments_lexer": "ipython3",
      "version": "3.11.3"
    }
  },
  "nbformat": 4,
  "nbformat_minor": 0
}